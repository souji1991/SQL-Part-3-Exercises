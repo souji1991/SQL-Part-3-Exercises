{
    "metadata": {
        "kernelspec": {
            "name": "SQL",
            "display_name": "SQL",
            "language": "sql"
        },
        "language_info": {
            "name": "sql",
            "version": ""
        },
        "extensions": {
            "azuredatastudio": {
                "version": 1,
                "views": []
            }
        }
    },
    "nbformat_minor": 2,
    "nbformat": 4,
    "cells": [
        {
            "cell_type": "markdown",
            "source": [
                "# SQL Part 3 Exercises Joins\n",
                "\n",
                "This notebook works with the BooksDB dataset.  \n",
                "\n",
                "**Questions 1-4** focus on how joins work in a more general sense.  If you are not sure how to best answer the questions, try manipulating the queries by changing the order of joins, the length of the TOP, or how they are ordered.  \n",
                "\n",
                "> <span style=\"background-color: rgba(127, 127, 127, 0.1);\"><i>Note</i>: If some of the queries are not returning quickly, you can try closing and restarting azure data studio after a few minutes.</span>\n",
                "\n",
                "In **questions 5-8**, you will be asked to join tables to find results about titles, tags, and the books users want to read.\n",
                "\n",
                "As you go through the questions, you will see 'Minimum Desired Output'.  This will provide you with the bare minimum columns needed to answer the questions.  When you write the queries, add as many additional columns as you need to best find your answers."
            ],
            "metadata": {
                "azdata_cell_guid": "db9534a9-c8a7-4c09-8180-bcba0690bb02"
            },
            "attachments": {}
        },
        {
            "cell_type": "markdown",
            "source": [
                "## **QUESTION 1:**  Exploring a LEFT JOIN using the **books** and **to\\_read** tables\n",
                "\n",
                "The code block below has been commented out. To answer this question, you will need to uncomment it by removing the **/\\*** (line 1) and **\\*/** (line 16).\n",
                "\n",
                "**Part A:** Look at Query 1, which table is the 'Left' table and which is the 'Right'?\n",
                "\n",
                "> Your Answer: Left table is' dbo.to\\_read '    Right table is dbo.books\n",
                "\n",
                "**Part B:** Using table 2, answer the following questions: \n",
                "\n",
                "- When we added a  '**WHERE tr.user\\_id IS NOT NULL'** clause (line 14), how did the table change?  Why?\n",
                "\n",
                "> Your Answer:when we added a   **WHERE tr.user\\_id IS NOT NULL'** <span style=\"font-family: -apple-system, BlinkMacSystemFont, sans-serif; color: var(--vscode-foreground); background-color: rgb(255, 255, 254);\">&nbsp;clause in code .....table&nbsp; returns with columns user_id&nbsp; and book_id&nbsp; without null values&nbsp; .</span>"
            ],
            "metadata": {
                "azdata_cell_guid": "660be568-9a70-40ff-a2fa-a78e31e87b6f"
            },
            "attachments": {}
        },
        {
            "cell_type": "code",
            "source": [
                "\n",
                "-- Query 1: LEFT JOIN \n",
                "SELECT TOP 50 b.title, b.average_rating, b.books_count,tr.user_id, tr.book_id\n",
                "FROM BooksDB.dbo.books AS b\n",
                "LEFT JOIN BooksDB.dbo.to_read AS tr\n",
                "ON b.best_book_id = tr.book_id\n",
                "ORDER BY b.average_rating;\n",
                "\n",
                "-- Query 2: LEFT JOIN USING 'IS NOT NULL'\n",
                "SELECT TOP 50 b.title, b.average_rating, b.books_count,tr.user_id, tr.book_id\n",
                "FROM BooksDB.dbo.books AS b\n",
                "LEFT JOIN BooksDB.dbo.to_read AS tr\n",
                "ON b.best_book_id = tr.book_id\n",
                "WHERE tr.user_id IS NOT NULL\n",
                "ORDER BY b.average_rating;\n",
                ""
            ],
            "metadata": {
                "azdata_cell_guid": "25dcd34c-5e5d-4393-9da0-a4c0effb6455",
                "tags": [],
                "language": "sql"
            },
            "outputs": [
                {
                    "output_type": "display_data",
                    "data": {
                        "text/html": "(50 rows affected)"
                    },
                    "metadata": {}
                },
                {
                    "output_type": "display_data",
                    "data": {
                        "text/html": "(50 rows affected)"
                    },
                    "metadata": {}
                },
                {
                    "output_type": "display_data",
                    "data": {
                        "text/html": "Total execution time: 00:00:18.928"
                    },
                    "metadata": {}
                },
                {
                    "output_type": "execute_result",
                    "execution_count": 1,
                    "data": {
                        "application/vnd.dataresource+json": {
                            "schema": {
                                "fields": [
                                    {
                                        "name": "title"
                                    },
                                    {
                                        "name": "average_rating"
                                    },
                                    {
                                        "name": "books_count"
                                    },
                                    {
                                        "name": "user_id"
                                    },
                                    {
                                        "name": "book_id"
                                    }
                                ]
                            },
                            "data": [
                                {
                                    "title": "One Night at the Call Center",
                                    "average_rating": "2.47",
                                    "books_count": "25",
                                    "user_id": "NULL",
                                    "book_id": "NULL"
                                },
                                {
                                    "title": "The Almost Moon",
                                    "average_rating": "2.67",
                                    "books_count": "63",
                                    "user_id": "NULL",
                                    "book_id": "NULL"
                                },
                                {
                                    "title": "The Finkler Question",
                                    "average_rating": "2.76",
                                    "books_count": "45",
                                    "user_id": "NULL",
                                    "book_id": "NULL"
                                },
                                {
                                    "title": "Four Blondes",
                                    "average_rating": "2.8",
                                    "books_count": "57",
                                    "user_id": "449",
                                    "book_id": "6613"
                                },
                                {
                                    "title": "Four Blondes",
                                    "average_rating": "2.8",
                                    "books_count": "57",
                                    "user_id": "1378",
                                    "book_id": "6613"
                                },
                                {
                                    "title": "Four Blondes",
                                    "average_rating": "2.8",
                                    "books_count": "57",
                                    "user_id": "6465",
                                    "book_id": "6613"
                                },
                                {
                                    "title": "Four Blondes",
                                    "average_rating": "2.8",
                                    "books_count": "57",
                                    "user_id": "6700",
                                    "book_id": "6613"
                                },
                                {
                                    "title": "Four Blondes",
                                    "average_rating": "2.8",
                                    "books_count": "57",
                                    "user_id": "7830",
                                    "book_id": "6613"
                                },
                                {
                                    "title": "Four Blondes",
                                    "average_rating": "2.8",
                                    "books_count": "57",
                                    "user_id": "10085",
                                    "book_id": "6613"
                                },
                                {
                                    "title": "Four Blondes",
                                    "average_rating": "2.8",
                                    "books_count": "57",
                                    "user_id": "16298",
                                    "book_id": "6613"
                                },
                                {
                                    "title": "Four Blondes",
                                    "average_rating": "2.8",
                                    "books_count": "57",
                                    "user_id": "16845",
                                    "book_id": "6613"
                                },
                                {
                                    "title": "Four Blondes",
                                    "average_rating": "2.8",
                                    "books_count": "57",
                                    "user_id": "17470",
                                    "book_id": "6613"
                                },
                                {
                                    "title": "Four Blondes",
                                    "average_rating": "2.8",
                                    "books_count": "57",
                                    "user_id": "19763",
                                    "book_id": "6613"
                                },
                                {
                                    "title": "Four Blondes",
                                    "average_rating": "2.8",
                                    "books_count": "57",
                                    "user_id": "21938",
                                    "book_id": "6613"
                                },
                                {
                                    "title": "Four Blondes",
                                    "average_rating": "2.8",
                                    "books_count": "57",
                                    "user_id": "22289",
                                    "book_id": "6613"
                                },
                                {
                                    "title": "Four Blondes",
                                    "average_rating": "2.8",
                                    "books_count": "57",
                                    "user_id": "23758",
                                    "book_id": "6613"
                                },
                                {
                                    "title": "Four Blondes",
                                    "average_rating": "2.8",
                                    "books_count": "57",
                                    "user_id": "27874",
                                    "book_id": "6613"
                                },
                                {
                                    "title": "Four Blondes",
                                    "average_rating": "2.8",
                                    "books_count": "57",
                                    "user_id": "28690",
                                    "book_id": "6613"
                                },
                                {
                                    "title": "Four Blondes",
                                    "average_rating": "2.8",
                                    "books_count": "57",
                                    "user_id": "29023",
                                    "book_id": "6613"
                                },
                                {
                                    "title": "Four Blondes",
                                    "average_rating": "2.8",
                                    "books_count": "57",
                                    "user_id": "29315",
                                    "book_id": "6613"
                                },
                                {
                                    "title": "Four Blondes",
                                    "average_rating": "2.8",
                                    "books_count": "57",
                                    "user_id": "30245",
                                    "book_id": "6613"
                                },
                                {
                                    "title": "Four Blondes",
                                    "average_rating": "2.8",
                                    "books_count": "57",
                                    "user_id": "36128",
                                    "book_id": "6613"
                                },
                                {
                                    "title": "Four Blondes",
                                    "average_rating": "2.8",
                                    "books_count": "57",
                                    "user_id": "36554",
                                    "book_id": "6613"
                                },
                                {
                                    "title": "Four Blondes",
                                    "average_rating": "2.8",
                                    "books_count": "57",
                                    "user_id": "38159",
                                    "book_id": "6613"
                                },
                                {
                                    "title": "Four Blondes",
                                    "average_rating": "2.8",
                                    "books_count": "57",
                                    "user_id": "38800",
                                    "book_id": "6613"
                                },
                                {
                                    "title": "Four Blondes",
                                    "average_rating": "2.8",
                                    "books_count": "57",
                                    "user_id": "40361",
                                    "book_id": "6613"
                                },
                                {
                                    "title": "Four Blondes",
                                    "average_rating": "2.8",
                                    "books_count": "57",
                                    "user_id": "40529",
                                    "book_id": "6613"
                                },
                                {
                                    "title": "Four Blondes",
                                    "average_rating": "2.8",
                                    "books_count": "57",
                                    "user_id": "41485",
                                    "book_id": "6613"
                                },
                                {
                                    "title": "Four Blondes",
                                    "average_rating": "2.8",
                                    "books_count": "57",
                                    "user_id": "42706",
                                    "book_id": "6613"
                                },
                                {
                                    "title": "Four Blondes",
                                    "average_rating": "2.8",
                                    "books_count": "57",
                                    "user_id": "45206",
                                    "book_id": "6613"
                                },
                                {
                                    "title": "Four Blondes",
                                    "average_rating": "2.8",
                                    "books_count": "57",
                                    "user_id": "45689",
                                    "book_id": "6613"
                                },
                                {
                                    "title": "Four Blondes",
                                    "average_rating": "2.8",
                                    "books_count": "57",
                                    "user_id": "49499",
                                    "book_id": "6613"
                                },
                                {
                                    "title": "Four Blondes",
                                    "average_rating": "2.8",
                                    "books_count": "57",
                                    "user_id": "51105",
                                    "book_id": "6613"
                                },
                                {
                                    "title": "Four Blondes",
                                    "average_rating": "2.8",
                                    "books_count": "57",
                                    "user_id": "51671",
                                    "book_id": "6613"
                                },
                                {
                                    "title": "Four Blondes",
                                    "average_rating": "2.8",
                                    "books_count": "57",
                                    "user_id": "52109",
                                    "book_id": "6613"
                                },
                                {
                                    "title": "Lost",
                                    "average_rating": "2.8",
                                    "books_count": "18",
                                    "user_id": "NULL",
                                    "book_id": "NULL"
                                },
                                {
                                    "title": "Tell-All",
                                    "average_rating": "2.84",
                                    "books_count": "37",
                                    "user_id": "NULL",
                                    "book_id": "NULL"
                                },
                                {
                                    "title": "Revenge Wears Prada: The Devil Returns (The Devil Wears Prada, #2)",
                                    "average_rating": "2.84",
                                    "books_count": "59",
                                    "user_id": "NULL",
                                    "book_id": "NULL"
                                },
                                {
                                    "title": "Among the Ten Thousand Things",
                                    "average_rating": "2.84",
                                    "books_count": "19",
                                    "user_id": "NULL",
                                    "book_id": "NULL"
                                },
                                {
                                    "title": "The Emperor's Children",
                                    "average_rating": "2.93",
                                    "books_count": "45",
                                    "user_id": "7860",
                                    "book_id": "3648"
                                },
                                {
                                    "title": "The Emperor's Children",
                                    "average_rating": "2.93",
                                    "books_count": "45",
                                    "user_id": "11320",
                                    "book_id": "3648"
                                },
                                {
                                    "title": "The Emperor's Children",
                                    "average_rating": "2.93",
                                    "books_count": "45",
                                    "user_id": "12686",
                                    "book_id": "3648"
                                },
                                {
                                    "title": "The Emperor's Children",
                                    "average_rating": "2.93",
                                    "books_count": "45",
                                    "user_id": "12729",
                                    "book_id": "3648"
                                },
                                {
                                    "title": "The Emperor's Children",
                                    "average_rating": "2.93",
                                    "books_count": "45",
                                    "user_id": "12891",
                                    "book_id": "3648"
                                },
                                {
                                    "title": "The Emperor's Children",
                                    "average_rating": "2.93",
                                    "books_count": "45",
                                    "user_id": "16933",
                                    "book_id": "3648"
                                },
                                {
                                    "title": "The Emperor's Children",
                                    "average_rating": "2.93",
                                    "books_count": "45",
                                    "user_id": "17093",
                                    "book_id": "3648"
                                },
                                {
                                    "title": "The Emperor's Children",
                                    "average_rating": "2.93",
                                    "books_count": "45",
                                    "user_id": "24036",
                                    "book_id": "3648"
                                },
                                {
                                    "title": "The Emperor's Children",
                                    "average_rating": "2.93",
                                    "books_count": "45",
                                    "user_id": "35122",
                                    "book_id": "3648"
                                },
                                {
                                    "title": "The Emperor's Children",
                                    "average_rating": "2.93",
                                    "books_count": "45",
                                    "user_id": "36022",
                                    "book_id": "3648"
                                },
                                {
                                    "title": "The Emperor's Children",
                                    "average_rating": "2.93",
                                    "books_count": "45",
                                    "user_id": "36952",
                                    "book_id": "3648"
                                }
                            ]
                        },
                        "text/html": "<table><tr><th>title</th><th>average_rating</th><th>books_count</th><th>user_id</th><th>book_id</th></tr><tr><td>One Night at the Call Center</td><td>2.47</td><td>25</td><td>NULL</td><td>NULL</td></tr><tr><td>The Almost Moon</td><td>2.67</td><td>63</td><td>NULL</td><td>NULL</td></tr><tr><td>The Finkler Question</td><td>2.76</td><td>45</td><td>NULL</td><td>NULL</td></tr><tr><td>Four Blondes</td><td>2.8</td><td>57</td><td>449</td><td>6613</td></tr><tr><td>Four Blondes</td><td>2.8</td><td>57</td><td>1378</td><td>6613</td></tr><tr><td>Four Blondes</td><td>2.8</td><td>57</td><td>6465</td><td>6613</td></tr><tr><td>Four Blondes</td><td>2.8</td><td>57</td><td>6700</td><td>6613</td></tr><tr><td>Four Blondes</td><td>2.8</td><td>57</td><td>7830</td><td>6613</td></tr><tr><td>Four Blondes</td><td>2.8</td><td>57</td><td>10085</td><td>6613</td></tr><tr><td>Four Blondes</td><td>2.8</td><td>57</td><td>16298</td><td>6613</td></tr><tr><td>Four Blondes</td><td>2.8</td><td>57</td><td>16845</td><td>6613</td></tr><tr><td>Four Blondes</td><td>2.8</td><td>57</td><td>17470</td><td>6613</td></tr><tr><td>Four Blondes</td><td>2.8</td><td>57</td><td>19763</td><td>6613</td></tr><tr><td>Four Blondes</td><td>2.8</td><td>57</td><td>21938</td><td>6613</td></tr><tr><td>Four Blondes</td><td>2.8</td><td>57</td><td>22289</td><td>6613</td></tr><tr><td>Four Blondes</td><td>2.8</td><td>57</td><td>23758</td><td>6613</td></tr><tr><td>Four Blondes</td><td>2.8</td><td>57</td><td>27874</td><td>6613</td></tr><tr><td>Four Blondes</td><td>2.8</td><td>57</td><td>28690</td><td>6613</td></tr><tr><td>Four Blondes</td><td>2.8</td><td>57</td><td>29023</td><td>6613</td></tr><tr><td>Four Blondes</td><td>2.8</td><td>57</td><td>29315</td><td>6613</td></tr><tr><td>Four Blondes</td><td>2.8</td><td>57</td><td>30245</td><td>6613</td></tr><tr><td>Four Blondes</td><td>2.8</td><td>57</td><td>36128</td><td>6613</td></tr><tr><td>Four Blondes</td><td>2.8</td><td>57</td><td>36554</td><td>6613</td></tr><tr><td>Four Blondes</td><td>2.8</td><td>57</td><td>38159</td><td>6613</td></tr><tr><td>Four Blondes</td><td>2.8</td><td>57</td><td>38800</td><td>6613</td></tr><tr><td>Four Blondes</td><td>2.8</td><td>57</td><td>40361</td><td>6613</td></tr><tr><td>Four Blondes</td><td>2.8</td><td>57</td><td>40529</td><td>6613</td></tr><tr><td>Four Blondes</td><td>2.8</td><td>57</td><td>41485</td><td>6613</td></tr><tr><td>Four Blondes</td><td>2.8</td><td>57</td><td>42706</td><td>6613</td></tr><tr><td>Four Blondes</td><td>2.8</td><td>57</td><td>45206</td><td>6613</td></tr><tr><td>Four Blondes</td><td>2.8</td><td>57</td><td>45689</td><td>6613</td></tr><tr><td>Four Blondes</td><td>2.8</td><td>57</td><td>49499</td><td>6613</td></tr><tr><td>Four Blondes</td><td>2.8</td><td>57</td><td>51105</td><td>6613</td></tr><tr><td>Four Blondes</td><td>2.8</td><td>57</td><td>51671</td><td>6613</td></tr><tr><td>Four Blondes</td><td>2.8</td><td>57</td><td>52109</td><td>6613</td></tr><tr><td>Lost</td><td>2.8</td><td>18</td><td>NULL</td><td>NULL</td></tr><tr><td>Tell-All</td><td>2.84</td><td>37</td><td>NULL</td><td>NULL</td></tr><tr><td>Revenge Wears Prada: The Devil Returns (The Devil Wears Prada, #2)</td><td>2.84</td><td>59</td><td>NULL</td><td>NULL</td></tr><tr><td>Among the Ten Thousand Things</td><td>2.84</td><td>19</td><td>NULL</td><td>NULL</td></tr><tr><td>The Emperor&#39;s Children</td><td>2.93</td><td>45</td><td>7860</td><td>3648</td></tr><tr><td>The Emperor&#39;s Children</td><td>2.93</td><td>45</td><td>11320</td><td>3648</td></tr><tr><td>The Emperor&#39;s Children</td><td>2.93</td><td>45</td><td>12686</td><td>3648</td></tr><tr><td>The Emperor&#39;s Children</td><td>2.93</td><td>45</td><td>12729</td><td>3648</td></tr><tr><td>The Emperor&#39;s Children</td><td>2.93</td><td>45</td><td>12891</td><td>3648</td></tr><tr><td>The Emperor&#39;s Children</td><td>2.93</td><td>45</td><td>16933</td><td>3648</td></tr><tr><td>The Emperor&#39;s Children</td><td>2.93</td><td>45</td><td>17093</td><td>3648</td></tr><tr><td>The Emperor&#39;s Children</td><td>2.93</td><td>45</td><td>24036</td><td>3648</td></tr><tr><td>The Emperor&#39;s Children</td><td>2.93</td><td>45</td><td>35122</td><td>3648</td></tr><tr><td>The Emperor&#39;s Children</td><td>2.93</td><td>45</td><td>36022</td><td>3648</td></tr><tr><td>The Emperor&#39;s Children</td><td>2.93</td><td>45</td><td>36952</td><td>3648</td></tr></table>"
                    },
                    "metadata": {}
                },
                {
                    "output_type": "execute_result",
                    "execution_count": 1,
                    "data": {
                        "application/vnd.dataresource+json": {
                            "schema": {
                                "fields": [
                                    {
                                        "name": "title"
                                    },
                                    {
                                        "name": "average_rating"
                                    },
                                    {
                                        "name": "books_count"
                                    },
                                    {
                                        "name": "user_id"
                                    },
                                    {
                                        "name": "book_id"
                                    }
                                ]
                            },
                            "data": [
                                {
                                    "title": "Four Blondes",
                                    "average_rating": "2.8",
                                    "books_count": "57",
                                    "user_id": "449",
                                    "book_id": "6613"
                                },
                                {
                                    "title": "Four Blondes",
                                    "average_rating": "2.8",
                                    "books_count": "57",
                                    "user_id": "1378",
                                    "book_id": "6613"
                                },
                                {
                                    "title": "Four Blondes",
                                    "average_rating": "2.8",
                                    "books_count": "57",
                                    "user_id": "6465",
                                    "book_id": "6613"
                                },
                                {
                                    "title": "Four Blondes",
                                    "average_rating": "2.8",
                                    "books_count": "57",
                                    "user_id": "6700",
                                    "book_id": "6613"
                                },
                                {
                                    "title": "Four Blondes",
                                    "average_rating": "2.8",
                                    "books_count": "57",
                                    "user_id": "7830",
                                    "book_id": "6613"
                                },
                                {
                                    "title": "Four Blondes",
                                    "average_rating": "2.8",
                                    "books_count": "57",
                                    "user_id": "10085",
                                    "book_id": "6613"
                                },
                                {
                                    "title": "Four Blondes",
                                    "average_rating": "2.8",
                                    "books_count": "57",
                                    "user_id": "16298",
                                    "book_id": "6613"
                                },
                                {
                                    "title": "Four Blondes",
                                    "average_rating": "2.8",
                                    "books_count": "57",
                                    "user_id": "16845",
                                    "book_id": "6613"
                                },
                                {
                                    "title": "Four Blondes",
                                    "average_rating": "2.8",
                                    "books_count": "57",
                                    "user_id": "17470",
                                    "book_id": "6613"
                                },
                                {
                                    "title": "Four Blondes",
                                    "average_rating": "2.8",
                                    "books_count": "57",
                                    "user_id": "19763",
                                    "book_id": "6613"
                                },
                                {
                                    "title": "Four Blondes",
                                    "average_rating": "2.8",
                                    "books_count": "57",
                                    "user_id": "21938",
                                    "book_id": "6613"
                                },
                                {
                                    "title": "Four Blondes",
                                    "average_rating": "2.8",
                                    "books_count": "57",
                                    "user_id": "22289",
                                    "book_id": "6613"
                                },
                                {
                                    "title": "Four Blondes",
                                    "average_rating": "2.8",
                                    "books_count": "57",
                                    "user_id": "23758",
                                    "book_id": "6613"
                                },
                                {
                                    "title": "Four Blondes",
                                    "average_rating": "2.8",
                                    "books_count": "57",
                                    "user_id": "27874",
                                    "book_id": "6613"
                                },
                                {
                                    "title": "Four Blondes",
                                    "average_rating": "2.8",
                                    "books_count": "57",
                                    "user_id": "28690",
                                    "book_id": "6613"
                                },
                                {
                                    "title": "Four Blondes",
                                    "average_rating": "2.8",
                                    "books_count": "57",
                                    "user_id": "29023",
                                    "book_id": "6613"
                                },
                                {
                                    "title": "Four Blondes",
                                    "average_rating": "2.8",
                                    "books_count": "57",
                                    "user_id": "29315",
                                    "book_id": "6613"
                                },
                                {
                                    "title": "Four Blondes",
                                    "average_rating": "2.8",
                                    "books_count": "57",
                                    "user_id": "30245",
                                    "book_id": "6613"
                                },
                                {
                                    "title": "Four Blondes",
                                    "average_rating": "2.8",
                                    "books_count": "57",
                                    "user_id": "36128",
                                    "book_id": "6613"
                                },
                                {
                                    "title": "Four Blondes",
                                    "average_rating": "2.8",
                                    "books_count": "57",
                                    "user_id": "36554",
                                    "book_id": "6613"
                                },
                                {
                                    "title": "Four Blondes",
                                    "average_rating": "2.8",
                                    "books_count": "57",
                                    "user_id": "38159",
                                    "book_id": "6613"
                                },
                                {
                                    "title": "Four Blondes",
                                    "average_rating": "2.8",
                                    "books_count": "57",
                                    "user_id": "38800",
                                    "book_id": "6613"
                                },
                                {
                                    "title": "Four Blondes",
                                    "average_rating": "2.8",
                                    "books_count": "57",
                                    "user_id": "40361",
                                    "book_id": "6613"
                                },
                                {
                                    "title": "Four Blondes",
                                    "average_rating": "2.8",
                                    "books_count": "57",
                                    "user_id": "40529",
                                    "book_id": "6613"
                                },
                                {
                                    "title": "Four Blondes",
                                    "average_rating": "2.8",
                                    "books_count": "57",
                                    "user_id": "41485",
                                    "book_id": "6613"
                                },
                                {
                                    "title": "Four Blondes",
                                    "average_rating": "2.8",
                                    "books_count": "57",
                                    "user_id": "42706",
                                    "book_id": "6613"
                                },
                                {
                                    "title": "Four Blondes",
                                    "average_rating": "2.8",
                                    "books_count": "57",
                                    "user_id": "45206",
                                    "book_id": "6613"
                                },
                                {
                                    "title": "Four Blondes",
                                    "average_rating": "2.8",
                                    "books_count": "57",
                                    "user_id": "45689",
                                    "book_id": "6613"
                                },
                                {
                                    "title": "Four Blondes",
                                    "average_rating": "2.8",
                                    "books_count": "57",
                                    "user_id": "49499",
                                    "book_id": "6613"
                                },
                                {
                                    "title": "Four Blondes",
                                    "average_rating": "2.8",
                                    "books_count": "57",
                                    "user_id": "51105",
                                    "book_id": "6613"
                                },
                                {
                                    "title": "Four Blondes",
                                    "average_rating": "2.8",
                                    "books_count": "57",
                                    "user_id": "51671",
                                    "book_id": "6613"
                                },
                                {
                                    "title": "Four Blondes",
                                    "average_rating": "2.8",
                                    "books_count": "57",
                                    "user_id": "52109",
                                    "book_id": "6613"
                                },
                                {
                                    "title": "The Emperor's Children",
                                    "average_rating": "2.93",
                                    "books_count": "45",
                                    "user_id": "7860",
                                    "book_id": "3648"
                                },
                                {
                                    "title": "The Emperor's Children",
                                    "average_rating": "2.93",
                                    "books_count": "45",
                                    "user_id": "11320",
                                    "book_id": "3648"
                                },
                                {
                                    "title": "The Emperor's Children",
                                    "average_rating": "2.93",
                                    "books_count": "45",
                                    "user_id": "12686",
                                    "book_id": "3648"
                                },
                                {
                                    "title": "The Emperor's Children",
                                    "average_rating": "2.93",
                                    "books_count": "45",
                                    "user_id": "12729",
                                    "book_id": "3648"
                                },
                                {
                                    "title": "The Emperor's Children",
                                    "average_rating": "2.93",
                                    "books_count": "45",
                                    "user_id": "12891",
                                    "book_id": "3648"
                                },
                                {
                                    "title": "The Emperor's Children",
                                    "average_rating": "2.93",
                                    "books_count": "45",
                                    "user_id": "16933",
                                    "book_id": "3648"
                                },
                                {
                                    "title": "The Emperor's Children",
                                    "average_rating": "2.93",
                                    "books_count": "45",
                                    "user_id": "17093",
                                    "book_id": "3648"
                                },
                                {
                                    "title": "The Emperor's Children",
                                    "average_rating": "2.93",
                                    "books_count": "45",
                                    "user_id": "24036",
                                    "book_id": "3648"
                                },
                                {
                                    "title": "The Emperor's Children",
                                    "average_rating": "2.93",
                                    "books_count": "45",
                                    "user_id": "35122",
                                    "book_id": "3648"
                                },
                                {
                                    "title": "The Emperor's Children",
                                    "average_rating": "2.93",
                                    "books_count": "45",
                                    "user_id": "36022",
                                    "book_id": "3648"
                                },
                                {
                                    "title": "The Emperor's Children",
                                    "average_rating": "2.93",
                                    "books_count": "45",
                                    "user_id": "36952",
                                    "book_id": "3648"
                                },
                                {
                                    "title": "The Emperor's Children",
                                    "average_rating": "2.93",
                                    "books_count": "45",
                                    "user_id": "38430",
                                    "book_id": "3648"
                                },
                                {
                                    "title": "The Emperor's Children",
                                    "average_rating": "2.93",
                                    "books_count": "45",
                                    "user_id": "39414",
                                    "book_id": "3648"
                                },
                                {
                                    "title": "The Emperor's Children",
                                    "average_rating": "2.93",
                                    "books_count": "45",
                                    "user_id": "45261",
                                    "book_id": "3648"
                                },
                                {
                                    "title": "The Emperor's Children",
                                    "average_rating": "2.93",
                                    "books_count": "45",
                                    "user_id": "45497",
                                    "book_id": "3648"
                                },
                                {
                                    "title": "The Emperor's Children",
                                    "average_rating": "2.93",
                                    "books_count": "45",
                                    "user_id": "45747",
                                    "book_id": "3648"
                                },
                                {
                                    "title": "The Emperor's Children",
                                    "average_rating": "2.93",
                                    "books_count": "45",
                                    "user_id": "48502",
                                    "book_id": "3648"
                                },
                                {
                                    "title": "The Emperor's Children",
                                    "average_rating": "2.93",
                                    "books_count": "45",
                                    "user_id": "49233",
                                    "book_id": "3648"
                                }
                            ]
                        },
                        "text/html": "<table><tr><th>title</th><th>average_rating</th><th>books_count</th><th>user_id</th><th>book_id</th></tr><tr><td>Four Blondes</td><td>2.8</td><td>57</td><td>449</td><td>6613</td></tr><tr><td>Four Blondes</td><td>2.8</td><td>57</td><td>1378</td><td>6613</td></tr><tr><td>Four Blondes</td><td>2.8</td><td>57</td><td>6465</td><td>6613</td></tr><tr><td>Four Blondes</td><td>2.8</td><td>57</td><td>6700</td><td>6613</td></tr><tr><td>Four Blondes</td><td>2.8</td><td>57</td><td>7830</td><td>6613</td></tr><tr><td>Four Blondes</td><td>2.8</td><td>57</td><td>10085</td><td>6613</td></tr><tr><td>Four Blondes</td><td>2.8</td><td>57</td><td>16298</td><td>6613</td></tr><tr><td>Four Blondes</td><td>2.8</td><td>57</td><td>16845</td><td>6613</td></tr><tr><td>Four Blondes</td><td>2.8</td><td>57</td><td>17470</td><td>6613</td></tr><tr><td>Four Blondes</td><td>2.8</td><td>57</td><td>19763</td><td>6613</td></tr><tr><td>Four Blondes</td><td>2.8</td><td>57</td><td>21938</td><td>6613</td></tr><tr><td>Four Blondes</td><td>2.8</td><td>57</td><td>22289</td><td>6613</td></tr><tr><td>Four Blondes</td><td>2.8</td><td>57</td><td>23758</td><td>6613</td></tr><tr><td>Four Blondes</td><td>2.8</td><td>57</td><td>27874</td><td>6613</td></tr><tr><td>Four Blondes</td><td>2.8</td><td>57</td><td>28690</td><td>6613</td></tr><tr><td>Four Blondes</td><td>2.8</td><td>57</td><td>29023</td><td>6613</td></tr><tr><td>Four Blondes</td><td>2.8</td><td>57</td><td>29315</td><td>6613</td></tr><tr><td>Four Blondes</td><td>2.8</td><td>57</td><td>30245</td><td>6613</td></tr><tr><td>Four Blondes</td><td>2.8</td><td>57</td><td>36128</td><td>6613</td></tr><tr><td>Four Blondes</td><td>2.8</td><td>57</td><td>36554</td><td>6613</td></tr><tr><td>Four Blondes</td><td>2.8</td><td>57</td><td>38159</td><td>6613</td></tr><tr><td>Four Blondes</td><td>2.8</td><td>57</td><td>38800</td><td>6613</td></tr><tr><td>Four Blondes</td><td>2.8</td><td>57</td><td>40361</td><td>6613</td></tr><tr><td>Four Blondes</td><td>2.8</td><td>57</td><td>40529</td><td>6613</td></tr><tr><td>Four Blondes</td><td>2.8</td><td>57</td><td>41485</td><td>6613</td></tr><tr><td>Four Blondes</td><td>2.8</td><td>57</td><td>42706</td><td>6613</td></tr><tr><td>Four Blondes</td><td>2.8</td><td>57</td><td>45206</td><td>6613</td></tr><tr><td>Four Blondes</td><td>2.8</td><td>57</td><td>45689</td><td>6613</td></tr><tr><td>Four Blondes</td><td>2.8</td><td>57</td><td>49499</td><td>6613</td></tr><tr><td>Four Blondes</td><td>2.8</td><td>57</td><td>51105</td><td>6613</td></tr><tr><td>Four Blondes</td><td>2.8</td><td>57</td><td>51671</td><td>6613</td></tr><tr><td>Four Blondes</td><td>2.8</td><td>57</td><td>52109</td><td>6613</td></tr><tr><td>The Emperor&#39;s Children</td><td>2.93</td><td>45</td><td>7860</td><td>3648</td></tr><tr><td>The Emperor&#39;s Children</td><td>2.93</td><td>45</td><td>11320</td><td>3648</td></tr><tr><td>The Emperor&#39;s Children</td><td>2.93</td><td>45</td><td>12686</td><td>3648</td></tr><tr><td>The Emperor&#39;s Children</td><td>2.93</td><td>45</td><td>12729</td><td>3648</td></tr><tr><td>The Emperor&#39;s Children</td><td>2.93</td><td>45</td><td>12891</td><td>3648</td></tr><tr><td>The Emperor&#39;s Children</td><td>2.93</td><td>45</td><td>16933</td><td>3648</td></tr><tr><td>The Emperor&#39;s Children</td><td>2.93</td><td>45</td><td>17093</td><td>3648</td></tr><tr><td>The Emperor&#39;s Children</td><td>2.93</td><td>45</td><td>24036</td><td>3648</td></tr><tr><td>The Emperor&#39;s Children</td><td>2.93</td><td>45</td><td>35122</td><td>3648</td></tr><tr><td>The Emperor&#39;s Children</td><td>2.93</td><td>45</td><td>36022</td><td>3648</td></tr><tr><td>The Emperor&#39;s Children</td><td>2.93</td><td>45</td><td>36952</td><td>3648</td></tr><tr><td>The Emperor&#39;s Children</td><td>2.93</td><td>45</td><td>38430</td><td>3648</td></tr><tr><td>The Emperor&#39;s Children</td><td>2.93</td><td>45</td><td>39414</td><td>3648</td></tr><tr><td>The Emperor&#39;s Children</td><td>2.93</td><td>45</td><td>45261</td><td>3648</td></tr><tr><td>The Emperor&#39;s Children</td><td>2.93</td><td>45</td><td>45497</td><td>3648</td></tr><tr><td>The Emperor&#39;s Children</td><td>2.93</td><td>45</td><td>45747</td><td>3648</td></tr><tr><td>The Emperor&#39;s Children</td><td>2.93</td><td>45</td><td>48502</td><td>3648</td></tr><tr><td>The Emperor&#39;s Children</td><td>2.93</td><td>45</td><td>49233</td><td>3648</td></tr></table>"
                    },
                    "metadata": {}
                }
            ],
            "execution_count": 1
        },
        {
            "cell_type": "markdown",
            "source": [
                "## **QUESTION 2:** Exploring **RIGHT** joins with the **books** and **to\\_read** tables\n",
                "\n",
                "You will need to uncomment the Query to answer the question.\n",
                "\n",
                "**Part A:** Looking at the query, which table is the 'Left' and which is the 'Right'?\n",
                "\n",
                "> Your Answer:Left table id dbo.books and Right Tabkle is dbo.to\\_read\n",
                "\n",
                "**Part B:** How do the RIGHT-joined tables differ from the LEFT-joined tables in Question 1?  \n",
                "\n",
                "> Your Answer: RIGHT joined book\\_to\\_read table results with NULL values in ttitle and respective rows of columns  since its doesnt contain columns title and average rating books count ....unless LEFT joined  resulted with data since its has  values  in title  column  and. respective."
            ],
            "metadata": {
                "azdata_cell_guid": "c1e417d9-89d2-4a7d-ab46-b43c8bddc54f"
            },
            "attachments": {}
        },
        {
            "cell_type": "code",
            "source": [
                "\n",
                "-- Query 1: RIGHT JOIN\n",
                "SELECT TOP 300 b.title, b.average_rating, b.books_count, tr.user_id, tr.book_id\n",
                "FROM BooksDB.dbo.books AS b\n",
                "RIGHT JOIN BooksDB.dbo.to_read AS tr\n",
                "ON b.best_book_id = tr.book_id;"
            ],
            "metadata": {
                "azdata_cell_guid": "8cf020b8-2a76-46a6-acff-97eb1acc7fed",
                "tags": [],
                "language": "sql"
            },
            "outputs": [
                {
                    "output_type": "display_data",
                    "data": {
                        "text/html": "(300 rows affected)"
                    },
                    "metadata": {}
                },
                {
                    "output_type": "display_data",
                    "data": {
                        "text/html": "Total execution time: 00:00:00.066"
                    },
                    "metadata": {}
                },
                {
                    "output_type": "execute_result",
                    "execution_count": 2,
                    "data": {
                        "application/vnd.dataresource+json": {
                            "schema": {
                                "fields": [
                                    {
                                        "name": "title"
                                    },
                                    {
                                        "name": "average_rating"
                                    },
                                    {
                                        "name": "books_count"
                                    },
                                    {
                                        "name": "user_id"
                                    },
                                    {
                                        "name": "book_id"
                                    }
                                ]
                            },
                            "data": [
                                {
                                    "title": "Children of Dune (Dune Chronicles #3)",
                                    "average_rating": "3.9",
                                    "books_count": "116",
                                    "user_id": "1",
                                    "book_id": "112"
                                },
                                {
                                    "title": "NULL",
                                    "average_rating": "NULL",
                                    "books_count": "NULL",
                                    "user_id": "1",
                                    "book_id": "235"
                                },
                                {
                                    "title": "NULL",
                                    "average_rating": "NULL",
                                    "books_count": "NULL",
                                    "user_id": "1",
                                    "book_id": "533"
                                },
                                {
                                    "title": "NULL",
                                    "average_rating": "NULL",
                                    "books_count": "NULL",
                                    "user_id": "1",
                                    "book_id": "1198"
                                },
                                {
                                    "title": "NULL",
                                    "average_rating": "NULL",
                                    "books_count": "NULL",
                                    "user_id": "1",
                                    "book_id": "1874"
                                },
                                {
                                    "title": "NULL",
                                    "average_rating": "NULL",
                                    "books_count": "NULL",
                                    "user_id": "1",
                                    "book_id": "2058"
                                },
                                {
                                    "title": "NULL",
                                    "average_rating": "NULL",
                                    "books_count": "NULL",
                                    "user_id": "1",
                                    "book_id": "3334"
                                },
                                {
                                    "title": "NULL",
                                    "average_rating": "NULL",
                                    "books_count": "NULL",
                                    "user_id": "2",
                                    "book_id": "4"
                                },
                                {
                                    "title": "NULL",
                                    "average_rating": "NULL",
                                    "books_count": "NULL",
                                    "user_id": "2",
                                    "book_id": "11"
                                },
                                {
                                    "title": "The Ultimate Hitchhiker's Guide to the Galaxy",
                                    "average_rating": "4.37",
                                    "books_count": "32",
                                    "user_id": "2",
                                    "book_id": "13"
                                },
                                {
                                    "title": "NULL",
                                    "average_rating": "NULL",
                                    "books_count": "NULL",
                                    "user_id": "2",
                                    "book_id": "16"
                                },
                                {
                                    "title": "NULL",
                                    "average_rating": "NULL",
                                    "books_count": "NULL",
                                    "user_id": "2",
                                    "book_id": "92"
                                },
                                {
                                    "title": "Dune Messiah (Dune Chronicles #2)",
                                    "average_rating": "3.86",
                                    "books_count": "140",
                                    "user_id": "2",
                                    "book_id": "106"
                                },
                                {
                                    "title": "NULL",
                                    "average_rating": "NULL",
                                    "books_count": "NULL",
                                    "user_id": "2",
                                    "book_id": "113"
                                },
                                {
                                    "title": "NULL",
                                    "average_rating": "NULL",
                                    "books_count": "NULL",
                                    "user_id": "2",
                                    "book_id": "233"
                                },
                                {
                                    "title": "NULL",
                                    "average_rating": "NULL",
                                    "books_count": "NULL",
                                    "user_id": "2",
                                    "book_id": "247"
                                },
                                {
                                    "title": "NULL",
                                    "average_rating": "NULL",
                                    "books_count": "NULL",
                                    "user_id": "2",
                                    "book_id": "380"
                                },
                                {
                                    "title": "NULL",
                                    "average_rating": "NULL",
                                    "books_count": "NULL",
                                    "user_id": "2",
                                    "book_id": "408"
                                },
                                {
                                    "title": "NULL",
                                    "average_rating": "NULL",
                                    "books_count": "NULL",
                                    "user_id": "2",
                                    "book_id": "439"
                                },
                                {
                                    "title": "NULL",
                                    "average_rating": "NULL",
                                    "books_count": "NULL",
                                    "user_id": "2",
                                    "book_id": "479"
                                },
                                {
                                    "title": "NULL",
                                    "average_rating": "NULL",
                                    "books_count": "NULL",
                                    "user_id": "2",
                                    "book_id": "516"
                                },
                                {
                                    "title": "NULL",
                                    "average_rating": "NULL",
                                    "books_count": "NULL",
                                    "user_id": "2",
                                    "book_id": "619"
                                },
                                {
                                    "title": "NULL",
                                    "average_rating": "NULL",
                                    "books_count": "NULL",
                                    "user_id": "2",
                                    "book_id": "1069"
                                },
                                {
                                    "title": "The Iliad",
                                    "average_rating": "3.83",
                                    "books_count": "1726",
                                    "user_id": "2",
                                    "book_id": "1371"
                                },
                                {
                                    "title": "NULL",
                                    "average_rating": "NULL",
                                    "books_count": "NULL",
                                    "user_id": "2",
                                    "book_id": "1384"
                                },
                                {
                                    "title": "NULL",
                                    "average_rating": "NULL",
                                    "books_count": "NULL",
                                    "user_id": "2",
                                    "book_id": "1597"
                                },
                                {
                                    "title": "NULL",
                                    "average_rating": "NULL",
                                    "books_count": "NULL",
                                    "user_id": "2",
                                    "book_id": "1926"
                                },
                                {
                                    "title": "NULL",
                                    "average_rating": "NULL",
                                    "books_count": "NULL",
                                    "user_id": "2",
                                    "book_id": "1967"
                                },
                                {
                                    "title": "NULL",
                                    "average_rating": "NULL",
                                    "books_count": "NULL",
                                    "user_id": "2",
                                    "book_id": "1969"
                                },
                                {
                                    "title": "NULL",
                                    "average_rating": "NULL",
                                    "books_count": "NULL",
                                    "user_id": "2",
                                    "book_id": "2220"
                                },
                                {
                                    "title": "NULL",
                                    "average_rating": "NULL",
                                    "books_count": "NULL",
                                    "user_id": "2",
                                    "book_id": "2388"
                                },
                                {
                                    "title": "NULL",
                                    "average_rating": "NULL",
                                    "books_count": "NULL",
                                    "user_id": "2",
                                    "book_id": "3222"
                                },
                                {
                                    "title": "NULL",
                                    "average_rating": "NULL",
                                    "books_count": "NULL",
                                    "user_id": "2",
                                    "book_id": "3227"
                                },
                                {
                                    "title": "NULL",
                                    "average_rating": "NULL",
                                    "books_count": "NULL",
                                    "user_id": "2",
                                    "book_id": "3733"
                                },
                                {
                                    "title": "NULL",
                                    "average_rating": "NULL",
                                    "books_count": "NULL",
                                    "user_id": "2",
                                    "book_id": "5418"
                                },
                                {
                                    "title": "NULL",
                                    "average_rating": "NULL",
                                    "books_count": "NULL",
                                    "user_id": "2",
                                    "book_id": "6937"
                                },
                                {
                                    "title": "NULL",
                                    "average_rating": "NULL",
                                    "books_count": "NULL",
                                    "user_id": "2",
                                    "book_id": "7146"
                                },
                                {
                                    "title": "NULL",
                                    "average_rating": "NULL",
                                    "books_count": "NULL",
                                    "user_id": "2",
                                    "book_id": "7873"
                                },
                                {
                                    "title": "NULL",
                                    "average_rating": "NULL",
                                    "books_count": "NULL",
                                    "user_id": "2",
                                    "book_id": "8417"
                                },
                                {
                                    "title": "Harry Potter Collection (Harry Potter, #1-6)",
                                    "average_rating": "4.73",
                                    "books_count": "6",
                                    "user_id": "3",
                                    "book_id": "10"
                                },
                                {
                                    "title": "NULL",
                                    "average_rating": "NULL",
                                    "books_count": "NULL",
                                    "user_id": "3",
                                    "book_id": "66"
                                },
                                {
                                    "title": "NULL",
                                    "average_rating": "NULL",
                                    "books_count": "NULL",
                                    "user_id": "3",
                                    "book_id": "233"
                                },
                                {
                                    "title": "NULL",
                                    "average_rating": "NULL",
                                    "books_count": "NULL",
                                    "user_id": "3",
                                    "book_id": "726"
                                },
                                {
                                    "title": "NULL",
                                    "average_rating": "NULL",
                                    "books_count": "NULL",
                                    "user_id": "3",
                                    "book_id": "932"
                                },
                                {
                                    "title": "NULL",
                                    "average_rating": "NULL",
                                    "books_count": "NULL",
                                    "user_id": "3",
                                    "book_id": "1146"
                                },
                                {
                                    "title": "NULL",
                                    "average_rating": "NULL",
                                    "books_count": "NULL",
                                    "user_id": "3",
                                    "book_id": "2439"
                                },
                                {
                                    "title": "NULL",
                                    "average_rating": "NULL",
                                    "books_count": "NULL",
                                    "user_id": "3",
                                    "book_id": "3566"
                                },
                                {
                                    "title": "NULL",
                                    "average_rating": "NULL",
                                    "books_count": "NULL",
                                    "user_id": "3",
                                    "book_id": "4582"
                                },
                                {
                                    "title": "NULL",
                                    "average_rating": "NULL",
                                    "books_count": "NULL",
                                    "user_id": "3",
                                    "book_id": "5448"
                                },
                                {
                                    "title": "NULL",
                                    "average_rating": "NULL",
                                    "books_count": "NULL",
                                    "user_id": "3",
                                    "book_id": "5765"
                                },
                                {
                                    "title": "NULL",
                                    "average_rating": "NULL",
                                    "books_count": "NULL",
                                    "user_id": "3",
                                    "book_id": "6274"
                                },
                                {
                                    "title": "NULL",
                                    "average_rating": "NULL",
                                    "books_count": "NULL",
                                    "user_id": "3",
                                    "book_id": "8403"
                                },
                                {
                                    "title": "NULL",
                                    "average_rating": "NULL",
                                    "books_count": "NULL",
                                    "user_id": "5",
                                    "book_id": "31"
                                },
                                {
                                    "title": "The Virtue of Selfishness: A New Concept of Egoism",
                                    "average_rating": "3.47",
                                    "books_count": "53",
                                    "user_id": "5",
                                    "book_id": "665"
                                },
                                {
                                    "title": "NULL",
                                    "average_rating": "NULL",
                                    "books_count": "NULL",
                                    "user_id": "5",
                                    "book_id": "3074"
                                },
                                {
                                    "title": "Sherlock Holmes: The Complete Novels and Stories, Volume I",
                                    "average_rating": "4.45",
                                    "books_count": "13",
                                    "user_id": "5",
                                    "book_id": "3581"
                                },
                                {
                                    "title": "NULL",
                                    "average_rating": "NULL",
                                    "books_count": "NULL",
                                    "user_id": "6",
                                    "book_id": "64"
                                },
                                {
                                    "title": "NULL",
                                    "average_rating": "NULL",
                                    "books_count": "NULL",
                                    "user_id": "6",
                                    "book_id": "459"
                                },
                                {
                                    "title": "NULL",
                                    "average_rating": "NULL",
                                    "books_count": "NULL",
                                    "user_id": "6",
                                    "book_id": "619"
                                },
                                {
                                    "title": "NULL",
                                    "average_rating": "NULL",
                                    "books_count": "NULL",
                                    "user_id": "6",
                                    "book_id": "649"
                                },
                                {
                                    "title": "NULL",
                                    "average_rating": "NULL",
                                    "books_count": "NULL",
                                    "user_id": "6",
                                    "book_id": "687"
                                },
                                {
                                    "title": "NULL",
                                    "average_rating": "NULL",
                                    "books_count": "NULL",
                                    "user_id": "6",
                                    "book_id": "874"
                                },
                                {
                                    "title": "The War of Art: Break Through the Blocks & Win Your Inner Creative Battles",
                                    "average_rating": "4.07",
                                    "books_count": "29",
                                    "user_id": "6",
                                    "book_id": "1319"
                                },
                                {
                                    "title": "NULL",
                                    "average_rating": "NULL",
                                    "books_count": "NULL",
                                    "user_id": "6",
                                    "book_id": "1912"
                                },
                                {
                                    "title": "NULL",
                                    "average_rating": "NULL",
                                    "books_count": "NULL",
                                    "user_id": "6",
                                    "book_id": "5269"
                                },
                                {
                                    "title": "NULL",
                                    "average_rating": "NULL",
                                    "books_count": "NULL",
                                    "user_id": "6",
                                    "book_id": "5537"
                                },
                                {
                                    "title": "NULL",
                                    "average_rating": "NULL",
                                    "books_count": "NULL",
                                    "user_id": "6",
                                    "book_id": "5820"
                                },
                                {
                                    "title": "NULL",
                                    "average_rating": "NULL",
                                    "books_count": "NULL",
                                    "user_id": "6",
                                    "book_id": "6220"
                                },
                                {
                                    "title": "NULL",
                                    "average_rating": "NULL",
                                    "books_count": "NULL",
                                    "user_id": "6",
                                    "book_id": "7480"
                                },
                                {
                                    "title": "Harry Potter Collection (Harry Potter, #1-6)",
                                    "average_rating": "4.73",
                                    "books_count": "6",
                                    "user_id": "7",
                                    "book_id": "10"
                                },
                                {
                                    "title": "NULL",
                                    "average_rating": "NULL",
                                    "books_count": "NULL",
                                    "user_id": "7",
                                    "book_id": "215"
                                },
                                {
                                    "title": "NULL",
                                    "average_rating": "NULL",
                                    "books_count": "NULL",
                                    "user_id": "7",
                                    "book_id": "225"
                                },
                                {
                                    "title": "NULL",
                                    "average_rating": "NULL",
                                    "books_count": "NULL",
                                    "user_id": "7",
                                    "book_id": "233"
                                },
                                {
                                    "title": "NULL",
                                    "average_rating": "NULL",
                                    "books_count": "NULL",
                                    "user_id": "7",
                                    "book_id": "1322"
                                },
                                {
                                    "title": "NULL",
                                    "average_rating": "NULL",
                                    "books_count": "NULL",
                                    "user_id": "7",
                                    "book_id": "3552"
                                },
                                {
                                    "title": "NULL",
                                    "average_rating": "NULL",
                                    "books_count": "NULL",
                                    "user_id": "7",
                                    "book_id": "3720"
                                },
                                {
                                    "title": "NULL",
                                    "average_rating": "NULL",
                                    "books_count": "NULL",
                                    "user_id": "7",
                                    "book_id": "4468"
                                },
                                {
                                    "title": "NULL",
                                    "average_rating": "NULL",
                                    "books_count": "NULL",
                                    "user_id": "8",
                                    "book_id": "19"
                                },
                                {
                                    "title": "NULL",
                                    "average_rating": "NULL",
                                    "books_count": "NULL",
                                    "user_id": "8",
                                    "book_id": "498"
                                },
                                {
                                    "title": "NULL",
                                    "average_rating": "NULL",
                                    "books_count": "NULL",
                                    "user_id": "8",
                                    "book_id": "1357"
                                },
                                {
                                    "title": "NULL",
                                    "average_rating": "NULL",
                                    "books_count": "NULL",
                                    "user_id": "8",
                                    "book_id": "2177"
                                },
                                {
                                    "title": "NULL",
                                    "average_rating": "NULL",
                                    "books_count": "NULL",
                                    "user_id": "8",
                                    "book_id": "3930"
                                },
                                {
                                    "title": "The Pilgrimage",
                                    "average_rating": "3.64",
                                    "books_count": "171",
                                    "user_id": "8",
                                    "book_id": "4004"
                                },
                                {
                                    "title": "NULL",
                                    "average_rating": "NULL",
                                    "books_count": "NULL",
                                    "user_id": "8",
                                    "book_id": "8792"
                                },
                                {
                                    "title": "NULL",
                                    "average_rating": "NULL",
                                    "books_count": "NULL",
                                    "user_id": "8",
                                    "book_id": "9304"
                                },
                                {
                                    "title": "Harry Potter Boxed Set, Books 1-5 (Harry Potter, #1-5)",
                                    "average_rating": "4.77",
                                    "books_count": "11",
                                    "user_id": "9",
                                    "book_id": "8"
                                },
                                {
                                    "title": "Children of Dune (Dune Chronicles #3)",
                                    "average_rating": "3.9",
                                    "books_count": "116",
                                    "user_id": "9",
                                    "book_id": "112"
                                },
                                {
                                    "title": "NULL",
                                    "average_rating": "NULL",
                                    "books_count": "NULL",
                                    "user_id": "9",
                                    "book_id": "139"
                                },
                                {
                                    "title": "NULL",
                                    "average_rating": "NULL",
                                    "books_count": "NULL",
                                    "user_id": "9",
                                    "book_id": "230"
                                },
                                {
                                    "title": "NULL",
                                    "average_rating": "NULL",
                                    "books_count": "NULL",
                                    "user_id": "9",
                                    "book_id": "233"
                                },
                                {
                                    "title": "NULL",
                                    "average_rating": "NULL",
                                    "books_count": "NULL",
                                    "user_id": "9",
                                    "book_id": "473"
                                },
                                {
                                    "title": "NULL",
                                    "average_rating": "NULL",
                                    "books_count": "NULL",
                                    "user_id": "9",
                                    "book_id": "638"
                                },
                                {
                                    "title": "NULL",
                                    "average_rating": "NULL",
                                    "books_count": "NULL",
                                    "user_id": "9",
                                    "book_id": "653"
                                },
                                {
                                    "title": "NULL",
                                    "average_rating": "NULL",
                                    "books_count": "NULL",
                                    "user_id": "9",
                                    "book_id": "672"
                                },
                                {
                                    "title": "NULL",
                                    "average_rating": "NULL",
                                    "books_count": "NULL",
                                    "user_id": "9",
                                    "book_id": "701"
                                },
                                {
                                    "title": "NULL",
                                    "average_rating": "NULL",
                                    "books_count": "NULL",
                                    "user_id": "9",
                                    "book_id": "736"
                                },
                                {
                                    "title": "NULL",
                                    "average_rating": "NULL",
                                    "books_count": "NULL",
                                    "user_id": "9",
                                    "book_id": "883"
                                },
                                {
                                    "title": "NULL",
                                    "average_rating": "NULL",
                                    "books_count": "NULL",
                                    "user_id": "9",
                                    "book_id": "895"
                                },
                                {
                                    "title": "NULL",
                                    "average_rating": "NULL",
                                    "books_count": "NULL",
                                    "user_id": "9",
                                    "book_id": "1467"
                                },
                                {
                                    "title": "NULL",
                                    "average_rating": "NULL",
                                    "books_count": "NULL",
                                    "user_id": "9",
                                    "book_id": "1582"
                                },
                                {
                                    "title": "NULL",
                                    "average_rating": "NULL",
                                    "books_count": "NULL",
                                    "user_id": "9",
                                    "book_id": "1873"
                                },
                                {
                                    "title": "NULL",
                                    "average_rating": "NULL",
                                    "books_count": "NULL",
                                    "user_id": "9",
                                    "book_id": "2516"
                                },
                                {
                                    "title": "NULL",
                                    "average_rating": "NULL",
                                    "books_count": "NULL",
                                    "user_id": "9",
                                    "book_id": "2630"
                                },
                                {
                                    "title": "NULL",
                                    "average_rating": "NULL",
                                    "books_count": "NULL",
                                    "user_id": "9",
                                    "book_id": "3210"
                                },
                                {
                                    "title": "Icy Sparks",
                                    "average_rating": "3.68",
                                    "books_count": "27",
                                    "user_id": "9",
                                    "book_id": "3476"
                                },
                                {
                                    "title": "NULL",
                                    "average_rating": "NULL",
                                    "books_count": "NULL",
                                    "user_id": "9",
                                    "book_id": "3560"
                                },
                                {
                                    "title": "NULL",
                                    "average_rating": "NULL",
                                    "books_count": "NULL",
                                    "user_id": "9",
                                    "book_id": "3650"
                                },
                                {
                                    "title": "NULL",
                                    "average_rating": "NULL",
                                    "books_count": "NULL",
                                    "user_id": "9",
                                    "book_id": "5286"
                                },
                                {
                                    "title": "NULL",
                                    "average_rating": "NULL",
                                    "books_count": "NULL",
                                    "user_id": "9",
                                    "book_id": "6636"
                                },
                                {
                                    "title": "Harry Potter and the Goblet of Fire (Harry Potter, #4)",
                                    "average_rating": "4.53",
                                    "books_count": "332",
                                    "user_id": "10",
                                    "book_id": "6"
                                },
                                {
                                    "title": "NULL",
                                    "average_rating": "NULL",
                                    "books_count": "NULL",
                                    "user_id": "10",
                                    "book_id": "385"
                                },
                                {
                                    "title": "Atlas Shrugged",
                                    "average_rating": "3.68",
                                    "books_count": "147",
                                    "user_id": "10",
                                    "book_id": "662"
                                },
                                {
                                    "title": "NULL",
                                    "average_rating": "NULL",
                                    "books_count": "NULL",
                                    "user_id": "10",
                                    "book_id": "896"
                                },
                                {
                                    "title": "NULL",
                                    "average_rating": "NULL",
                                    "books_count": "NULL",
                                    "user_id": "10",
                                    "book_id": "1076"
                                },
                                {
                                    "title": "NULL",
                                    "average_rating": "NULL",
                                    "books_count": "NULL",
                                    "user_id": "10",
                                    "book_id": "1082"
                                },
                                {
                                    "title": "NULL",
                                    "average_rating": "NULL",
                                    "books_count": "NULL",
                                    "user_id": "10",
                                    "book_id": "1220"
                                },
                                {
                                    "title": "NULL",
                                    "average_rating": "NULL",
                                    "books_count": "NULL",
                                    "user_id": "10",
                                    "book_id": "1281"
                                },
                                {
                                    "title": "NULL",
                                    "average_rating": "NULL",
                                    "books_count": "NULL",
                                    "user_id": "10",
                                    "book_id": "1439"
                                },
                                {
                                    "title": "NULL",
                                    "average_rating": "NULL",
                                    "books_count": "NULL",
                                    "user_id": "10",
                                    "book_id": "1851"
                                },
                                {
                                    "title": "NULL",
                                    "average_rating": "NULL",
                                    "books_count": "NULL",
                                    "user_id": "10",
                                    "book_id": "1920"
                                },
                                {
                                    "title": "NULL",
                                    "average_rating": "NULL",
                                    "books_count": "NULL",
                                    "user_id": "10",
                                    "book_id": "2441"
                                },
                                {
                                    "title": "NULL",
                                    "average_rating": "NULL",
                                    "books_count": "NULL",
                                    "user_id": "10",
                                    "book_id": "2570"
                                },
                                {
                                    "title": "NULL",
                                    "average_rating": "NULL",
                                    "books_count": "NULL",
                                    "user_id": "10",
                                    "book_id": "2616"
                                },
                                {
                                    "title": "NULL",
                                    "average_rating": "NULL",
                                    "books_count": "NULL",
                                    "user_id": "10",
                                    "book_id": "3059"
                                },
                                {
                                    "title": "NULL",
                                    "average_rating": "NULL",
                                    "books_count": "NULL",
                                    "user_id": "10",
                                    "book_id": "3545"
                                },
                                {
                                    "title": "NULL",
                                    "average_rating": "NULL",
                                    "books_count": "NULL",
                                    "user_id": "10",
                                    "book_id": "3961"
                                },
                                {
                                    "title": "NULL",
                                    "average_rating": "NULL",
                                    "books_count": "NULL",
                                    "user_id": "10",
                                    "book_id": "4369"
                                },
                                {
                                    "title": "NULL",
                                    "average_rating": "NULL",
                                    "books_count": "NULL",
                                    "user_id": "10",
                                    "book_id": "4510"
                                },
                                {
                                    "title": "NULL",
                                    "average_rating": "NULL",
                                    "books_count": "NULL",
                                    "user_id": "10",
                                    "book_id": "5104"
                                },
                                {
                                    "title": "NULL",
                                    "average_rating": "NULL",
                                    "books_count": "NULL",
                                    "user_id": "10",
                                    "book_id": "5254"
                                },
                                {
                                    "title": "NULL",
                                    "average_rating": "NULL",
                                    "books_count": "NULL",
                                    "user_id": "10",
                                    "book_id": "5556"
                                },
                                {
                                    "title": "NULL",
                                    "average_rating": "NULL",
                                    "books_count": "NULL",
                                    "user_id": "10",
                                    "book_id": "6114"
                                },
                                {
                                    "title": "NULL",
                                    "average_rating": "NULL",
                                    "books_count": "NULL",
                                    "user_id": "10",
                                    "book_id": "6917"
                                },
                                {
                                    "title": "NULL",
                                    "average_rating": "NULL",
                                    "books_count": "NULL",
                                    "user_id": "10",
                                    "book_id": "7545"
                                },
                                {
                                    "title": "NULL",
                                    "average_rating": "NULL",
                                    "books_count": "NULL",
                                    "user_id": "10",
                                    "book_id": "7842"
                                },
                                {
                                    "title": "NULL",
                                    "average_rating": "NULL",
                                    "books_count": "NULL",
                                    "user_id": "11",
                                    "book_id": "3643"
                                },
                                {
                                    "title": "Harry Potter and the Half-Blood Prince (Harry Potter, #6)",
                                    "average_rating": "4.54",
                                    "books_count": "275",
                                    "user_id": "12",
                                    "book_id": "1"
                                },
                                {
                                    "title": "NULL",
                                    "average_rating": "NULL",
                                    "books_count": "NULL",
                                    "user_id": "12",
                                    "book_id": "124"
                                },
                                {
                                    "title": "NULL",
                                    "average_rating": "NULL",
                                    "books_count": "NULL",
                                    "user_id": "12",
                                    "book_id": "1471"
                                },
                                {
                                    "title": "NULL",
                                    "average_rating": "NULL",
                                    "books_count": "NULL",
                                    "user_id": "12",
                                    "book_id": "2893"
                                },
                                {
                                    "title": "NULL",
                                    "average_rating": "NULL",
                                    "books_count": "NULL",
                                    "user_id": "13",
                                    "book_id": "81"
                                },
                                {
                                    "title": "NULL",
                                    "average_rating": "NULL",
                                    "books_count": "NULL",
                                    "user_id": "13",
                                    "book_id": "277"
                                },
                                {
                                    "title": "NULL",
                                    "average_rating": "NULL",
                                    "books_count": "NULL",
                                    "user_id": "13",
                                    "book_id": "318"
                                },
                                {
                                    "title": "NULL",
                                    "average_rating": "NULL",
                                    "books_count": "NULL",
                                    "user_id": "13",
                                    "book_id": "430"
                                },
                                {
                                    "title": "NULL",
                                    "average_rating": "NULL",
                                    "books_count": "NULL",
                                    "user_id": "13",
                                    "book_id": "437"
                                },
                                {
                                    "title": "NULL",
                                    "average_rating": "NULL",
                                    "books_count": "NULL",
                                    "user_id": "13",
                                    "book_id": "551"
                                },
                                {
                                    "title": "NULL",
                                    "average_rating": "NULL",
                                    "books_count": "NULL",
                                    "user_id": "13",
                                    "book_id": "560"
                                },
                                {
                                    "title": "NULL",
                                    "average_rating": "NULL",
                                    "books_count": "NULL",
                                    "user_id": "13",
                                    "book_id": "610"
                                },
                                {
                                    "title": "NULL",
                                    "average_rating": "NULL",
                                    "books_count": "NULL",
                                    "user_id": "13",
                                    "book_id": "678"
                                },
                                {
                                    "title": "NULL",
                                    "average_rating": "NULL",
                                    "books_count": "NULL",
                                    "user_id": "13",
                                    "book_id": "979"
                                },
                                {
                                    "title": "NULL",
                                    "average_rating": "NULL",
                                    "books_count": "NULL",
                                    "user_id": "13",
                                    "book_id": "1082"
                                },
                                {
                                    "title": "NULL",
                                    "average_rating": "NULL",
                                    "books_count": "NULL",
                                    "user_id": "13",
                                    "book_id": "1464"
                                },
                                {
                                    "title": "NULL",
                                    "average_rating": "NULL",
                                    "books_count": "NULL",
                                    "user_id": "13",
                                    "book_id": "1577"
                                },
                                {
                                    "title": "NULL",
                                    "average_rating": "NULL",
                                    "books_count": "NULL",
                                    "user_id": "13",
                                    "book_id": "2018"
                                },
                                {
                                    "title": "NULL",
                                    "average_rating": "NULL",
                                    "books_count": "NULL",
                                    "user_id": "13",
                                    "book_id": "2418"
                                },
                                {
                                    "title": "NULL",
                                    "average_rating": "NULL",
                                    "books_count": "NULL",
                                    "user_id": "13",
                                    "book_id": "3257"
                                },
                                {
                                    "title": "NULL",
                                    "average_rating": "NULL",
                                    "books_count": "NULL",
                                    "user_id": "13",
                                    "book_id": "4212"
                                },
                                {
                                    "title": "NULL",
                                    "average_rating": "NULL",
                                    "books_count": "NULL",
                                    "user_id": "13",
                                    "book_id": "4635"
                                },
                                {
                                    "title": "NULL",
                                    "average_rating": "NULL",
                                    "books_count": "NULL",
                                    "user_id": "13",
                                    "book_id": "4704"
                                },
                                {
                                    "title": "NULL",
                                    "average_rating": "NULL",
                                    "books_count": "NULL",
                                    "user_id": "13",
                                    "book_id": "4734"
                                },
                                {
                                    "title": "NULL",
                                    "average_rating": "NULL",
                                    "books_count": "NULL",
                                    "user_id": "13",
                                    "book_id": "4841"
                                },
                                {
                                    "title": "NULL",
                                    "average_rating": "NULL",
                                    "books_count": "NULL",
                                    "user_id": "13",
                                    "book_id": "4848"
                                },
                                {
                                    "title": "NULL",
                                    "average_rating": "NULL",
                                    "books_count": "NULL",
                                    "user_id": "13",
                                    "book_id": "4856"
                                },
                                {
                                    "title": "NULL",
                                    "average_rating": "NULL",
                                    "books_count": "NULL",
                                    "user_id": "13",
                                    "book_id": "4928"
                                },
                                {
                                    "title": "NULL",
                                    "average_rating": "NULL",
                                    "books_count": "NULL",
                                    "user_id": "13",
                                    "book_id": "6114"
                                },
                                {
                                    "title": "NULL",
                                    "average_rating": "NULL",
                                    "books_count": "NULL",
                                    "user_id": "13",
                                    "book_id": "6793"
                                },
                                {
                                    "title": "NULL",
                                    "average_rating": "NULL",
                                    "books_count": "NULL",
                                    "user_id": "13",
                                    "book_id": "6962"
                                },
                                {
                                    "title": "NULL",
                                    "average_rating": "NULL",
                                    "books_count": "NULL",
                                    "user_id": "13",
                                    "book_id": "8717"
                                },
                                {
                                    "title": "NULL",
                                    "average_rating": "NULL",
                                    "books_count": "NULL",
                                    "user_id": "14",
                                    "book_id": "493"
                                },
                                {
                                    "title": "NULL",
                                    "average_rating": "NULL",
                                    "books_count": "NULL",
                                    "user_id": "14",
                                    "book_id": "1179"
                                },
                                {
                                    "title": "NULL",
                                    "average_rating": "NULL",
                                    "books_count": "NULL",
                                    "user_id": "14",
                                    "book_id": "2693"
                                },
                                {
                                    "title": "Sherlock Holmes: The Complete Novels and Stories, Volume I",
                                    "average_rating": "4.45",
                                    "books_count": "13",
                                    "user_id": "14",
                                    "book_id": "3581"
                                },
                                {
                                    "title": "NULL",
                                    "average_rating": "NULL",
                                    "books_count": "NULL",
                                    "user_id": "14",
                                    "book_id": "3683"
                                },
                                {
                                    "title": "NULL",
                                    "average_rating": "NULL",
                                    "books_count": "NULL",
                                    "user_id": "14",
                                    "book_id": "3953"
                                },
                                {
                                    "title": "NULL",
                                    "average_rating": "NULL",
                                    "books_count": "NULL",
                                    "user_id": "14",
                                    "book_id": "4220"
                                },
                                {
                                    "title": "NULL",
                                    "average_rating": "NULL",
                                    "books_count": "NULL",
                                    "user_id": "14",
                                    "book_id": "5076"
                                },
                                {
                                    "title": "NULL",
                                    "average_rating": "NULL",
                                    "books_count": "NULL",
                                    "user_id": "14",
                                    "book_id": "5537"
                                },
                                {
                                    "title": "NULL",
                                    "average_rating": "NULL",
                                    "books_count": "NULL",
                                    "user_id": "14",
                                    "book_id": "7777"
                                },
                                {
                                    "title": "NULL",
                                    "average_rating": "NULL",
                                    "books_count": "NULL",
                                    "user_id": "15",
                                    "book_id": "191"
                                },
                                {
                                    "title": "The Lover",
                                    "average_rating": "3.76",
                                    "books_count": "148",
                                    "user_id": "15",
                                    "book_id": "275"
                                },
                                {
                                    "title": "NULL",
                                    "average_rating": "NULL",
                                    "books_count": "NULL",
                                    "user_id": "15",
                                    "book_id": "398"
                                },
                                {
                                    "title": "NULL",
                                    "average_rating": "NULL",
                                    "books_count": "NULL",
                                    "user_id": "15",
                                    "book_id": "666"
                                },
                                {
                                    "title": "NULL",
                                    "average_rating": "NULL",
                                    "books_count": "NULL",
                                    "user_id": "15",
                                    "book_id": "1491"
                                },
                                {
                                    "title": "NULL",
                                    "average_rating": "NULL",
                                    "books_count": "NULL",
                                    "user_id": "15",
                                    "book_id": "5210"
                                },
                                {
                                    "title": "NULL",
                                    "average_rating": "NULL",
                                    "books_count": "NULL",
                                    "user_id": "17",
                                    "book_id": "1344"
                                },
                                {
                                    "title": "The Good Soldier",
                                    "average_rating": "3.72",
                                    "books_count": "362",
                                    "user_id": "20",
                                    "book_id": "7628"
                                },
                                {
                                    "title": "NULL",
                                    "average_rating": "NULL",
                                    "books_count": "NULL",
                                    "user_id": "22",
                                    "book_id": "653"
                                },
                                {
                                    "title": "NULL",
                                    "average_rating": "NULL",
                                    "books_count": "NULL",
                                    "user_id": "22",
                                    "book_id": "1403"
                                },
                                {
                                    "title": "NULL",
                                    "average_rating": "NULL",
                                    "books_count": "NULL",
                                    "user_id": "22",
                                    "book_id": "1405"
                                },
                                {
                                    "title": "NULL",
                                    "average_rating": "NULL",
                                    "books_count": "NULL",
                                    "user_id": "22",
                                    "book_id": "1645"
                                },
                                {
                                    "title": "NULL",
                                    "average_rating": "NULL",
                                    "books_count": "NULL",
                                    "user_id": "22",
                                    "book_id": "2500"
                                },
                                {
                                    "title": "NULL",
                                    "average_rating": "NULL",
                                    "books_count": "NULL",
                                    "user_id": "22",
                                    "book_id": "2691"
                                },
                                {
                                    "title": "NULL",
                                    "average_rating": "NULL",
                                    "books_count": "NULL",
                                    "user_id": "22",
                                    "book_id": "4995"
                                },
                                {
                                    "title": "NULL",
                                    "average_rating": "NULL",
                                    "books_count": "NULL",
                                    "user_id": "23",
                                    "book_id": "273"
                                },
                                {
                                    "title": "NULL",
                                    "average_rating": "NULL",
                                    "books_count": "NULL",
                                    "user_id": "23",
                                    "book_id": "459"
                                },
                                {
                                    "title": "NULL",
                                    "average_rating": "NULL",
                                    "books_count": "NULL",
                                    "user_id": "23",
                                    "book_id": "791"
                                },
                                {
                                    "title": "NULL",
                                    "average_rating": "NULL",
                                    "books_count": "NULL",
                                    "user_id": "23",
                                    "book_id": "886"
                                },
                                {
                                    "title": "NULL",
                                    "average_rating": "NULL",
                                    "books_count": "NULL",
                                    "user_id": "23",
                                    "book_id": "925"
                                },
                                {
                                    "title": "NULL",
                                    "average_rating": "NULL",
                                    "books_count": "NULL",
                                    "user_id": "23",
                                    "book_id": "1198"
                                },
                                {
                                    "title": "NULL",
                                    "average_rating": "NULL",
                                    "books_count": "NULL",
                                    "user_id": "23",
                                    "book_id": "1597"
                                },
                                {
                                    "title": "NULL",
                                    "average_rating": "NULL",
                                    "books_count": "NULL",
                                    "user_id": "23",
                                    "book_id": "1688"
                                },
                                {
                                    "title": "NULL",
                                    "average_rating": "NULL",
                                    "books_count": "NULL",
                                    "user_id": "23",
                                    "book_id": "2251"
                                },
                                {
                                    "title": "NULL",
                                    "average_rating": "NULL",
                                    "books_count": "NULL",
                                    "user_id": "23",
                                    "book_id": "2350"
                                },
                                {
                                    "title": "NULL",
                                    "average_rating": "NULL",
                                    "books_count": "NULL",
                                    "user_id": "23",
                                    "book_id": "2613"
                                },
                                {
                                    "title": "NULL",
                                    "average_rating": "NULL",
                                    "books_count": "NULL",
                                    "user_id": "23",
                                    "book_id": "3312"
                                },
                                {
                                    "title": "NULL",
                                    "average_rating": "NULL",
                                    "books_count": "NULL",
                                    "user_id": "23",
                                    "book_id": "3343"
                                },
                                {
                                    "title": "NULL",
                                    "average_rating": "NULL",
                                    "books_count": "NULL",
                                    "user_id": "24",
                                    "book_id": "61"
                                },
                                {
                                    "title": "NULL",
                                    "average_rating": "NULL",
                                    "books_count": "NULL",
                                    "user_id": "24",
                                    "book_id": "143"
                                },
                                {
                                    "title": "NULL",
                                    "average_rating": "NULL",
                                    "books_count": "NULL",
                                    "user_id": "24",
                                    "book_id": "421"
                                },
                                {
                                    "title": "NULL",
                                    "average_rating": "NULL",
                                    "books_count": "NULL",
                                    "user_id": "24",
                                    "book_id": "467"
                                },
                                {
                                    "title": "NULL",
                                    "average_rating": "NULL",
                                    "books_count": "NULL",
                                    "user_id": "24",
                                    "book_id": "974"
                                },
                                {
                                    "title": "NULL",
                                    "average_rating": "NULL",
                                    "books_count": "NULL",
                                    "user_id": "26",
                                    "book_id": "508"
                                },
                                {
                                    "title": "NULL",
                                    "average_rating": "NULL",
                                    "books_count": "NULL",
                                    "user_id": "26",
                                    "book_id": "1796"
                                },
                                {
                                    "title": "NULL",
                                    "average_rating": "NULL",
                                    "books_count": "NULL",
                                    "user_id": "26",
                                    "book_id": "2257"
                                },
                                {
                                    "title": "NULL",
                                    "average_rating": "NULL",
                                    "books_count": "NULL",
                                    "user_id": "26",
                                    "book_id": "2314"
                                },
                                {
                                    "title": "NULL",
                                    "average_rating": "NULL",
                                    "books_count": "NULL",
                                    "user_id": "26",
                                    "book_id": "2357"
                                },
                                {
                                    "title": "NULL",
                                    "average_rating": "NULL",
                                    "books_count": "NULL",
                                    "user_id": "26",
                                    "book_id": "2738"
                                },
                                {
                                    "title": "NULL",
                                    "average_rating": "NULL",
                                    "books_count": "NULL",
                                    "user_id": "26",
                                    "book_id": "2810"
                                },
                                {
                                    "title": "NULL",
                                    "average_rating": "NULL",
                                    "books_count": "NULL",
                                    "user_id": "26",
                                    "book_id": "3207"
                                },
                                {
                                    "title": "The Thorn Birds",
                                    "average_rating": "4.22",
                                    "books_count": "201",
                                    "user_id": "26",
                                    "book_id": "3412"
                                },
                                {
                                    "title": "The Complete Sherlock Holmes, Vol 2",
                                    "average_rating": "4.46",
                                    "books_count": "117",
                                    "user_id": "26",
                                    "book_id": "3586"
                                },
                                {
                                    "title": "The Dark Tower (The Dark Tower, #7)",
                                    "average_rating": "4.27",
                                    "books_count": "105",
                                    "user_id": "26",
                                    "book_id": "5091"
                                },
                                {
                                    "title": "NULL",
                                    "average_rating": "NULL",
                                    "books_count": "NULL",
                                    "user_id": "26",
                                    "book_id": "5550"
                                },
                                {
                                    "title": "NULL",
                                    "average_rating": "NULL",
                                    "books_count": "NULL",
                                    "user_id": "26",
                                    "book_id": "6877"
                                },
                                {
                                    "title": "NULL",
                                    "average_rating": "NULL",
                                    "books_count": "NULL",
                                    "user_id": "26",
                                    "book_id": "7970"
                                },
                                {
                                    "title": "NULL",
                                    "average_rating": "NULL",
                                    "books_count": "NULL",
                                    "user_id": "28",
                                    "book_id": "265"
                                },
                                {
                                    "title": "NULL",
                                    "average_rating": "NULL",
                                    "books_count": "NULL",
                                    "user_id": "28",
                                    "book_id": "587"
                                },
                                {
                                    "title": "NULL",
                                    "average_rating": "NULL",
                                    "books_count": "NULL",
                                    "user_id": "28",
                                    "book_id": "3543"
                                },
                                {
                                    "title": "NULL",
                                    "average_rating": "NULL",
                                    "books_count": "NULL",
                                    "user_id": "28",
                                    "book_id": "5215"
                                },
                                {
                                    "title": "NULL",
                                    "average_rating": "NULL",
                                    "books_count": "NULL",
                                    "user_id": "28",
                                    "book_id": "7496"
                                },
                                {
                                    "title": "NULL",
                                    "average_rating": "NULL",
                                    "books_count": "NULL",
                                    "user_id": "28",
                                    "book_id": "8654"
                                },
                                {
                                    "title": "NULL",
                                    "average_rating": "NULL",
                                    "books_count": "NULL",
                                    "user_id": "29",
                                    "book_id": "31"
                                },
                                {
                                    "title": "NULL",
                                    "average_rating": "NULL",
                                    "books_count": "NULL",
                                    "user_id": "29",
                                    "book_id": "32"
                                },
                                {
                                    "title": "The Lord of the Rings: Weapons and Warfare",
                                    "average_rating": "4.53",
                                    "books_count": "12",
                                    "user_id": "29",
                                    "book_id": "36"
                                },
                                {
                                    "title": "NULL",
                                    "average_rating": "NULL",
                                    "books_count": "NULL",
                                    "user_id": "29",
                                    "book_id": "45"
                                },
                                {
                                    "title": "NULL",
                                    "average_rating": "NULL",
                                    "books_count": "NULL",
                                    "user_id": "29",
                                    "book_id": "65"
                                },
                                {
                                    "title": "NULL",
                                    "average_rating": "NULL",
                                    "books_count": "NULL",
                                    "user_id": "29",
                                    "book_id": "87"
                                },
                                {
                                    "title": "NULL",
                                    "average_rating": "NULL",
                                    "books_count": "NULL",
                                    "user_id": "29",
                                    "book_id": "115"
                                },
                                {
                                    "title": "NULL",
                                    "average_rating": "NULL",
                                    "books_count": "NULL",
                                    "user_id": "29",
                                    "book_id": "121"
                                },
                                {
                                    "title": "NULL",
                                    "average_rating": "NULL",
                                    "books_count": "NULL",
                                    "user_id": "29",
                                    "book_id": "131"
                                },
                                {
                                    "title": "NULL",
                                    "average_rating": "NULL",
                                    "books_count": "NULL",
                                    "user_id": "29",
                                    "book_id": "178"
                                },
                                {
                                    "title": "NULL",
                                    "average_rating": "NULL",
                                    "books_count": "NULL",
                                    "user_id": "29",
                                    "book_id": "256"
                                },
                                {
                                    "title": "NULL",
                                    "average_rating": "NULL",
                                    "books_count": "NULL",
                                    "user_id": "29",
                                    "book_id": "323"
                                },
                                {
                                    "title": "Slouching Towards Bethlehem",
                                    "average_rating": "4.24",
                                    "books_count": "34",
                                    "user_id": "29",
                                    "book_id": "424"
                                },
                                {
                                    "title": "NULL",
                                    "average_rating": "NULL",
                                    "books_count": "NULL",
                                    "user_id": "29",
                                    "book_id": "467"
                                },
                                {
                                    "title": "NULL",
                                    "average_rating": "NULL",
                                    "books_count": "NULL",
                                    "user_id": "29",
                                    "book_id": "550"
                                },
                                {
                                    "title": "NULL",
                                    "average_rating": "NULL",
                                    "books_count": "NULL",
                                    "user_id": "29",
                                    "book_id": "618"
                                },
                                {
                                    "title": "Atlas Shrugged",
                                    "average_rating": "3.68",
                                    "books_count": "147",
                                    "user_id": "29",
                                    "book_id": "662"
                                },
                                {
                                    "title": "NULL",
                                    "average_rating": "NULL",
                                    "books_count": "NULL",
                                    "user_id": "29",
                                    "book_id": "709"
                                },
                                {
                                    "title": "NULL",
                                    "average_rating": "NULL",
                                    "books_count": "NULL",
                                    "user_id": "29",
                                    "book_id": "730"
                                },
                                {
                                    "title": "NULL",
                                    "average_rating": "NULL",
                                    "books_count": "NULL",
                                    "user_id": "29",
                                    "book_id": "771"
                                },
                                {
                                    "title": "NULL",
                                    "average_rating": "NULL",
                                    "books_count": "NULL",
                                    "user_id": "29",
                                    "book_id": "809"
                                },
                                {
                                    "title": "NULL",
                                    "average_rating": "NULL",
                                    "books_count": "NULL",
                                    "user_id": "29",
                                    "book_id": "934"
                                },
                                {
                                    "title": "NULL",
                                    "average_rating": "NULL",
                                    "books_count": "NULL",
                                    "user_id": "29",
                                    "book_id": "1084"
                                },
                                {
                                    "title": "NULL",
                                    "average_rating": "NULL",
                                    "books_count": "NULL",
                                    "user_id": "29",
                                    "book_id": "1364"
                                },
                                {
                                    "title": "NULL",
                                    "average_rating": "NULL",
                                    "books_count": "NULL",
                                    "user_id": "29",
                                    "book_id": "1642"
                                },
                                {
                                    "title": "NULL",
                                    "average_rating": "NULL",
                                    "books_count": "NULL",
                                    "user_id": "29",
                                    "book_id": "1695"
                                },
                                {
                                    "title": "NULL",
                                    "average_rating": "NULL",
                                    "books_count": "NULL",
                                    "user_id": "29",
                                    "book_id": "2259"
                                },
                                {
                                    "title": "NULL",
                                    "average_rating": "NULL",
                                    "books_count": "NULL",
                                    "user_id": "29",
                                    "book_id": "2284"
                                },
                                {
                                    "title": "NULL",
                                    "average_rating": "NULL",
                                    "books_count": "NULL",
                                    "user_id": "29",
                                    "book_id": "2304"
                                },
                                {
                                    "title": "NULL",
                                    "average_rating": "NULL",
                                    "books_count": "NULL",
                                    "user_id": "29",
                                    "book_id": "2967"
                                },
                                {
                                    "title": "NULL",
                                    "average_rating": "NULL",
                                    "books_count": "NULL",
                                    "user_id": "29",
                                    "book_id": "3508"
                                },
                                {
                                    "title": "NULL",
                                    "average_rating": "NULL",
                                    "books_count": "NULL",
                                    "user_id": "29",
                                    "book_id": "4359"
                                },
                                {
                                    "title": "NULL",
                                    "average_rating": "NULL",
                                    "books_count": "NULL",
                                    "user_id": "29",
                                    "book_id": "4394"
                                },
                                {
                                    "title": "NULL",
                                    "average_rating": "NULL",
                                    "books_count": "NULL",
                                    "user_id": "29",
                                    "book_id": "4475"
                                },
                                {
                                    "title": "NULL",
                                    "average_rating": "NULL",
                                    "books_count": "NULL",
                                    "user_id": "29",
                                    "book_id": "4629"
                                },
                                {
                                    "title": "NULL",
                                    "average_rating": "NULL",
                                    "books_count": "NULL",
                                    "user_id": "29",
                                    "book_id": "5090"
                                },
                                {
                                    "title": "NULL",
                                    "average_rating": "NULL",
                                    "books_count": "NULL",
                                    "user_id": "29",
                                    "book_id": "5596"
                                },
                                {
                                    "title": "NULL",
                                    "average_rating": "NULL",
                                    "books_count": "NULL",
                                    "user_id": "29",
                                    "book_id": "5851"
                                },
                                {
                                    "title": "NULL",
                                    "average_rating": "NULL",
                                    "books_count": "NULL",
                                    "user_id": "29",
                                    "book_id": "6104"
                                },
                                {
                                    "title": "NULL",
                                    "average_rating": "NULL",
                                    "books_count": "NULL",
                                    "user_id": "30",
                                    "book_id": "47"
                                },
                                {
                                    "title": "The Known World",
                                    "average_rating": "3.82",
                                    "books_count": "42",
                                    "user_id": "30",
                                    "book_id": "67"
                                },
                                {
                                    "title": "NULL",
                                    "average_rating": "NULL",
                                    "books_count": "NULL",
                                    "user_id": "30",
                                    "book_id": "82"
                                },
                                {
                                    "title": "NULL",
                                    "average_rating": "NULL",
                                    "books_count": "NULL",
                                    "user_id": "30",
                                    "book_id": "121"
                                },
                                {
                                    "title": "NULL",
                                    "average_rating": "NULL",
                                    "books_count": "NULL",
                                    "user_id": "30",
                                    "book_id": "177"
                                },
                                {
                                    "title": "Tropic of Cancer",
                                    "average_rating": "3.71",
                                    "books_count": "205",
                                    "user_id": "30",
                                    "book_id": "249"
                                },
                                {
                                    "title": "NULL",
                                    "average_rating": "NULL",
                                    "books_count": "NULL",
                                    "user_id": "30",
                                    "book_id": "297"
                                },
                                {
                                    "title": "NULL",
                                    "average_rating": "NULL",
                                    "books_count": "NULL",
                                    "user_id": "30",
                                    "book_id": "407"
                                },
                                {
                                    "title": "NULL",
                                    "average_rating": "NULL",
                                    "books_count": "NULL",
                                    "user_id": "30",
                                    "book_id": "426"
                                },
                                {
                                    "title": "NULL",
                                    "average_rating": "NULL",
                                    "books_count": "NULL",
                                    "user_id": "30",
                                    "book_id": "430"
                                },
                                {
                                    "title": "NULL",
                                    "average_rating": "NULL",
                                    "books_count": "NULL",
                                    "user_id": "30",
                                    "book_id": "442"
                                },
                                {
                                    "title": "NULL",
                                    "average_rating": "NULL",
                                    "books_count": "NULL",
                                    "user_id": "30",
                                    "book_id": "516"
                                },
                                {
                                    "title": "NULL",
                                    "average_rating": "NULL",
                                    "books_count": "NULL",
                                    "user_id": "30",
                                    "book_id": "658"
                                },
                                {
                                    "title": "NULL",
                                    "average_rating": "NULL",
                                    "books_count": "NULL",
                                    "user_id": "30",
                                    "book_id": "895"
                                },
                                {
                                    "title": "NULL",
                                    "average_rating": "NULL",
                                    "books_count": "NULL",
                                    "user_id": "30",
                                    "book_id": "1039"
                                },
                                {
                                    "title": "NULL",
                                    "average_rating": "NULL",
                                    "books_count": "NULL",
                                    "user_id": "30",
                                    "book_id": "1094"
                                },
                                {
                                    "title": "The Odyssey",
                                    "average_rating": "3.73",
                                    "books_count": "1703",
                                    "user_id": "30",
                                    "book_id": "1381"
                                },
                                {
                                    "title": "NULL",
                                    "average_rating": "NULL",
                                    "books_count": "NULL",
                                    "user_id": "30",
                                    "book_id": "2117"
                                },
                                {
                                    "title": "NULL",
                                    "average_rating": "NULL",
                                    "books_count": "NULL",
                                    "user_id": "30",
                                    "book_id": "2426"
                                },
                                {
                                    "title": "NULL",
                                    "average_rating": "NULL",
                                    "books_count": "NULL",
                                    "user_id": "30",
                                    "book_id": "3444"
                                },
                                {
                                    "title": "The Pilgrimage",
                                    "average_rating": "3.64",
                                    "books_count": "171",
                                    "user_id": "30",
                                    "book_id": "4004"
                                },
                                {
                                    "title": "NULL",
                                    "average_rating": "NULL",
                                    "books_count": "NULL",
                                    "user_id": "30",
                                    "book_id": "4202"
                                },
                                {
                                    "title": "NULL",
                                    "average_rating": "NULL",
                                    "books_count": "NULL",
                                    "user_id": "30",
                                    "book_id": "4509"
                                },
                                {
                                    "title": "NULL",
                                    "average_rating": "NULL",
                                    "books_count": "NULL",
                                    "user_id": "30",
                                    "book_id": "5880"
                                },
                                {
                                    "title": "The Hobbit",
                                    "average_rating": "4.25",
                                    "books_count": "969",
                                    "user_id": "30",
                                    "book_id": "5907"
                                },
                                {
                                    "title": "NULL",
                                    "average_rating": "NULL",
                                    "books_count": "NULL",
                                    "user_id": "30",
                                    "book_id": "6828"
                                },
                                {
                                    "title": "NULL",
                                    "average_rating": "NULL",
                                    "books_count": "NULL",
                                    "user_id": "30",
                                    "book_id": "7563"
                                },
                                {
                                    "title": "NULL",
                                    "average_rating": "NULL",
                                    "books_count": "NULL",
                                    "user_id": "30",
                                    "book_id": "8737"
                                },
                                {
                                    "title": "NULL",
                                    "average_rating": "NULL",
                                    "books_count": "NULL",
                                    "user_id": "31",
                                    "book_id": "94"
                                },
                                {
                                    "title": "NULL",
                                    "average_rating": "NULL",
                                    "books_count": "NULL",
                                    "user_id": "31",
                                    "book_id": "584"
                                }
                            ]
                        },
                        "text/html": "<table><tr><th>title</th><th>average_rating</th><th>books_count</th><th>user_id</th><th>book_id</th></tr><tr><td>Children of Dune (Dune Chronicles #3)</td><td>3.9</td><td>116</td><td>1</td><td>112</td></tr><tr><td>NULL</td><td>NULL</td><td>NULL</td><td>1</td><td>235</td></tr><tr><td>NULL</td><td>NULL</td><td>NULL</td><td>1</td><td>533</td></tr><tr><td>NULL</td><td>NULL</td><td>NULL</td><td>1</td><td>1198</td></tr><tr><td>NULL</td><td>NULL</td><td>NULL</td><td>1</td><td>1874</td></tr><tr><td>NULL</td><td>NULL</td><td>NULL</td><td>1</td><td>2058</td></tr><tr><td>NULL</td><td>NULL</td><td>NULL</td><td>1</td><td>3334</td></tr><tr><td>NULL</td><td>NULL</td><td>NULL</td><td>2</td><td>4</td></tr><tr><td>NULL</td><td>NULL</td><td>NULL</td><td>2</td><td>11</td></tr><tr><td>The Ultimate Hitchhiker&#39;s Guide to the Galaxy</td><td>4.37</td><td>32</td><td>2</td><td>13</td></tr><tr><td>NULL</td><td>NULL</td><td>NULL</td><td>2</td><td>16</td></tr><tr><td>NULL</td><td>NULL</td><td>NULL</td><td>2</td><td>92</td></tr><tr><td>Dune Messiah (Dune Chronicles #2)</td><td>3.86</td><td>140</td><td>2</td><td>106</td></tr><tr><td>NULL</td><td>NULL</td><td>NULL</td><td>2</td><td>113</td></tr><tr><td>NULL</td><td>NULL</td><td>NULL</td><td>2</td><td>233</td></tr><tr><td>NULL</td><td>NULL</td><td>NULL</td><td>2</td><td>247</td></tr><tr><td>NULL</td><td>NULL</td><td>NULL</td><td>2</td><td>380</td></tr><tr><td>NULL</td><td>NULL</td><td>NULL</td><td>2</td><td>408</td></tr><tr><td>NULL</td><td>NULL</td><td>NULL</td><td>2</td><td>439</td></tr><tr><td>NULL</td><td>NULL</td><td>NULL</td><td>2</td><td>479</td></tr><tr><td>NULL</td><td>NULL</td><td>NULL</td><td>2</td><td>516</td></tr><tr><td>NULL</td><td>NULL</td><td>NULL</td><td>2</td><td>619</td></tr><tr><td>NULL</td><td>NULL</td><td>NULL</td><td>2</td><td>1069</td></tr><tr><td>The Iliad</td><td>3.83</td><td>1726</td><td>2</td><td>1371</td></tr><tr><td>NULL</td><td>NULL</td><td>NULL</td><td>2</td><td>1384</td></tr><tr><td>NULL</td><td>NULL</td><td>NULL</td><td>2</td><td>1597</td></tr><tr><td>NULL</td><td>NULL</td><td>NULL</td><td>2</td><td>1926</td></tr><tr><td>NULL</td><td>NULL</td><td>NULL</td><td>2</td><td>1967</td></tr><tr><td>NULL</td><td>NULL</td><td>NULL</td><td>2</td><td>1969</td></tr><tr><td>NULL</td><td>NULL</td><td>NULL</td><td>2</td><td>2220</td></tr><tr><td>NULL</td><td>NULL</td><td>NULL</td><td>2</td><td>2388</td></tr><tr><td>NULL</td><td>NULL</td><td>NULL</td><td>2</td><td>3222</td></tr><tr><td>NULL</td><td>NULL</td><td>NULL</td><td>2</td><td>3227</td></tr><tr><td>NULL</td><td>NULL</td><td>NULL</td><td>2</td><td>3733</td></tr><tr><td>NULL</td><td>NULL</td><td>NULL</td><td>2</td><td>5418</td></tr><tr><td>NULL</td><td>NULL</td><td>NULL</td><td>2</td><td>6937</td></tr><tr><td>NULL</td><td>NULL</td><td>NULL</td><td>2</td><td>7146</td></tr><tr><td>NULL</td><td>NULL</td><td>NULL</td><td>2</td><td>7873</td></tr><tr><td>NULL</td><td>NULL</td><td>NULL</td><td>2</td><td>8417</td></tr><tr><td>Harry Potter Collection (Harry Potter, #1-6)</td><td>4.73</td><td>6</td><td>3</td><td>10</td></tr><tr><td>NULL</td><td>NULL</td><td>NULL</td><td>3</td><td>66</td></tr><tr><td>NULL</td><td>NULL</td><td>NULL</td><td>3</td><td>233</td></tr><tr><td>NULL</td><td>NULL</td><td>NULL</td><td>3</td><td>726</td></tr><tr><td>NULL</td><td>NULL</td><td>NULL</td><td>3</td><td>932</td></tr><tr><td>NULL</td><td>NULL</td><td>NULL</td><td>3</td><td>1146</td></tr><tr><td>NULL</td><td>NULL</td><td>NULL</td><td>3</td><td>2439</td></tr><tr><td>NULL</td><td>NULL</td><td>NULL</td><td>3</td><td>3566</td></tr><tr><td>NULL</td><td>NULL</td><td>NULL</td><td>3</td><td>4582</td></tr><tr><td>NULL</td><td>NULL</td><td>NULL</td><td>3</td><td>5448</td></tr><tr><td>NULL</td><td>NULL</td><td>NULL</td><td>3</td><td>5765</td></tr><tr><td>NULL</td><td>NULL</td><td>NULL</td><td>3</td><td>6274</td></tr><tr><td>NULL</td><td>NULL</td><td>NULL</td><td>3</td><td>8403</td></tr><tr><td>NULL</td><td>NULL</td><td>NULL</td><td>5</td><td>31</td></tr><tr><td>The Virtue of Selfishness: A New Concept of Egoism</td><td>3.47</td><td>53</td><td>5</td><td>665</td></tr><tr><td>NULL</td><td>NULL</td><td>NULL</td><td>5</td><td>3074</td></tr><tr><td>Sherlock Holmes: The Complete Novels and Stories, Volume I</td><td>4.45</td><td>13</td><td>5</td><td>3581</td></tr><tr><td>NULL</td><td>NULL</td><td>NULL</td><td>6</td><td>64</td></tr><tr><td>NULL</td><td>NULL</td><td>NULL</td><td>6</td><td>459</td></tr><tr><td>NULL</td><td>NULL</td><td>NULL</td><td>6</td><td>619</td></tr><tr><td>NULL</td><td>NULL</td><td>NULL</td><td>6</td><td>649</td></tr><tr><td>NULL</td><td>NULL</td><td>NULL</td><td>6</td><td>687</td></tr><tr><td>NULL</td><td>NULL</td><td>NULL</td><td>6</td><td>874</td></tr><tr><td>The War of Art: Break Through the Blocks &amp; Win Your Inner Creative Battles</td><td>4.07</td><td>29</td><td>6</td><td>1319</td></tr><tr><td>NULL</td><td>NULL</td><td>NULL</td><td>6</td><td>1912</td></tr><tr><td>NULL</td><td>NULL</td><td>NULL</td><td>6</td><td>5269</td></tr><tr><td>NULL</td><td>NULL</td><td>NULL</td><td>6</td><td>5537</td></tr><tr><td>NULL</td><td>NULL</td><td>NULL</td><td>6</td><td>5820</td></tr><tr><td>NULL</td><td>NULL</td><td>NULL</td><td>6</td><td>6220</td></tr><tr><td>NULL</td><td>NULL</td><td>NULL</td><td>6</td><td>7480</td></tr><tr><td>Harry Potter Collection (Harry Potter, #1-6)</td><td>4.73</td><td>6</td><td>7</td><td>10</td></tr><tr><td>NULL</td><td>NULL</td><td>NULL</td><td>7</td><td>215</td></tr><tr><td>NULL</td><td>NULL</td><td>NULL</td><td>7</td><td>225</td></tr><tr><td>NULL</td><td>NULL</td><td>NULL</td><td>7</td><td>233</td></tr><tr><td>NULL</td><td>NULL</td><td>NULL</td><td>7</td><td>1322</td></tr><tr><td>NULL</td><td>NULL</td><td>NULL</td><td>7</td><td>3552</td></tr><tr><td>NULL</td><td>NULL</td><td>NULL</td><td>7</td><td>3720</td></tr><tr><td>NULL</td><td>NULL</td><td>NULL</td><td>7</td><td>4468</td></tr><tr><td>NULL</td><td>NULL</td><td>NULL</td><td>8</td><td>19</td></tr><tr><td>NULL</td><td>NULL</td><td>NULL</td><td>8</td><td>498</td></tr><tr><td>NULL</td><td>NULL</td><td>NULL</td><td>8</td><td>1357</td></tr><tr><td>NULL</td><td>NULL</td><td>NULL</td><td>8</td><td>2177</td></tr><tr><td>NULL</td><td>NULL</td><td>NULL</td><td>8</td><td>3930</td></tr><tr><td>The Pilgrimage</td><td>3.64</td><td>171</td><td>8</td><td>4004</td></tr><tr><td>NULL</td><td>NULL</td><td>NULL</td><td>8</td><td>8792</td></tr><tr><td>NULL</td><td>NULL</td><td>NULL</td><td>8</td><td>9304</td></tr><tr><td>Harry Potter Boxed Set, Books 1-5 (Harry Potter, #1-5)</td><td>4.77</td><td>11</td><td>9</td><td>8</td></tr><tr><td>Children of Dune (Dune Chronicles #3)</td><td>3.9</td><td>116</td><td>9</td><td>112</td></tr><tr><td>NULL</td><td>NULL</td><td>NULL</td><td>9</td><td>139</td></tr><tr><td>NULL</td><td>NULL</td><td>NULL</td><td>9</td><td>230</td></tr><tr><td>NULL</td><td>NULL</td><td>NULL</td><td>9</td><td>233</td></tr><tr><td>NULL</td><td>NULL</td><td>NULL</td><td>9</td><td>473</td></tr><tr><td>NULL</td><td>NULL</td><td>NULL</td><td>9</td><td>638</td></tr><tr><td>NULL</td><td>NULL</td><td>NULL</td><td>9</td><td>653</td></tr><tr><td>NULL</td><td>NULL</td><td>NULL</td><td>9</td><td>672</td></tr><tr><td>NULL</td><td>NULL</td><td>NULL</td><td>9</td><td>701</td></tr><tr><td>NULL</td><td>NULL</td><td>NULL</td><td>9</td><td>736</td></tr><tr><td>NULL</td><td>NULL</td><td>NULL</td><td>9</td><td>883</td></tr><tr><td>NULL</td><td>NULL</td><td>NULL</td><td>9</td><td>895</td></tr><tr><td>NULL</td><td>NULL</td><td>NULL</td><td>9</td><td>1467</td></tr><tr><td>NULL</td><td>NULL</td><td>NULL</td><td>9</td><td>1582</td></tr><tr><td>NULL</td><td>NULL</td><td>NULL</td><td>9</td><td>1873</td></tr><tr><td>NULL</td><td>NULL</td><td>NULL</td><td>9</td><td>2516</td></tr><tr><td>NULL</td><td>NULL</td><td>NULL</td><td>9</td><td>2630</td></tr><tr><td>NULL</td><td>NULL</td><td>NULL</td><td>9</td><td>3210</td></tr><tr><td>Icy Sparks</td><td>3.68</td><td>27</td><td>9</td><td>3476</td></tr><tr><td>NULL</td><td>NULL</td><td>NULL</td><td>9</td><td>3560</td></tr><tr><td>NULL</td><td>NULL</td><td>NULL</td><td>9</td><td>3650</td></tr><tr><td>NULL</td><td>NULL</td><td>NULL</td><td>9</td><td>5286</td></tr><tr><td>NULL</td><td>NULL</td><td>NULL</td><td>9</td><td>6636</td></tr><tr><td>Harry Potter and the Goblet of Fire (Harry Potter, #4)</td><td>4.53</td><td>332</td><td>10</td><td>6</td></tr><tr><td>NULL</td><td>NULL</td><td>NULL</td><td>10</td><td>385</td></tr><tr><td>Atlas Shrugged</td><td>3.68</td><td>147</td><td>10</td><td>662</td></tr><tr><td>NULL</td><td>NULL</td><td>NULL</td><td>10</td><td>896</td></tr><tr><td>NULL</td><td>NULL</td><td>NULL</td><td>10</td><td>1076</td></tr><tr><td>NULL</td><td>NULL</td><td>NULL</td><td>10</td><td>1082</td></tr><tr><td>NULL</td><td>NULL</td><td>NULL</td><td>10</td><td>1220</td></tr><tr><td>NULL</td><td>NULL</td><td>NULL</td><td>10</td><td>1281</td></tr><tr><td>NULL</td><td>NULL</td><td>NULL</td><td>10</td><td>1439</td></tr><tr><td>NULL</td><td>NULL</td><td>NULL</td><td>10</td><td>1851</td></tr><tr><td>NULL</td><td>NULL</td><td>NULL</td><td>10</td><td>1920</td></tr><tr><td>NULL</td><td>NULL</td><td>NULL</td><td>10</td><td>2441</td></tr><tr><td>NULL</td><td>NULL</td><td>NULL</td><td>10</td><td>2570</td></tr><tr><td>NULL</td><td>NULL</td><td>NULL</td><td>10</td><td>2616</td></tr><tr><td>NULL</td><td>NULL</td><td>NULL</td><td>10</td><td>3059</td></tr><tr><td>NULL</td><td>NULL</td><td>NULL</td><td>10</td><td>3545</td></tr><tr><td>NULL</td><td>NULL</td><td>NULL</td><td>10</td><td>3961</td></tr><tr><td>NULL</td><td>NULL</td><td>NULL</td><td>10</td><td>4369</td></tr><tr><td>NULL</td><td>NULL</td><td>NULL</td><td>10</td><td>4510</td></tr><tr><td>NULL</td><td>NULL</td><td>NULL</td><td>10</td><td>5104</td></tr><tr><td>NULL</td><td>NULL</td><td>NULL</td><td>10</td><td>5254</td></tr><tr><td>NULL</td><td>NULL</td><td>NULL</td><td>10</td><td>5556</td></tr><tr><td>NULL</td><td>NULL</td><td>NULL</td><td>10</td><td>6114</td></tr><tr><td>NULL</td><td>NULL</td><td>NULL</td><td>10</td><td>6917</td></tr><tr><td>NULL</td><td>NULL</td><td>NULL</td><td>10</td><td>7545</td></tr><tr><td>NULL</td><td>NULL</td><td>NULL</td><td>10</td><td>7842</td></tr><tr><td>NULL</td><td>NULL</td><td>NULL</td><td>11</td><td>3643</td></tr><tr><td>Harry Potter and the Half-Blood Prince (Harry Potter, #6)</td><td>4.54</td><td>275</td><td>12</td><td>1</td></tr><tr><td>NULL</td><td>NULL</td><td>NULL</td><td>12</td><td>124</td></tr><tr><td>NULL</td><td>NULL</td><td>NULL</td><td>12</td><td>1471</td></tr><tr><td>NULL</td><td>NULL</td><td>NULL</td><td>12</td><td>2893</td></tr><tr><td>NULL</td><td>NULL</td><td>NULL</td><td>13</td><td>81</td></tr><tr><td>NULL</td><td>NULL</td><td>NULL</td><td>13</td><td>277</td></tr><tr><td>NULL</td><td>NULL</td><td>NULL</td><td>13</td><td>318</td></tr><tr><td>NULL</td><td>NULL</td><td>NULL</td><td>13</td><td>430</td></tr><tr><td>NULL</td><td>NULL</td><td>NULL</td><td>13</td><td>437</td></tr><tr><td>NULL</td><td>NULL</td><td>NULL</td><td>13</td><td>551</td></tr><tr><td>NULL</td><td>NULL</td><td>NULL</td><td>13</td><td>560</td></tr><tr><td>NULL</td><td>NULL</td><td>NULL</td><td>13</td><td>610</td></tr><tr><td>NULL</td><td>NULL</td><td>NULL</td><td>13</td><td>678</td></tr><tr><td>NULL</td><td>NULL</td><td>NULL</td><td>13</td><td>979</td></tr><tr><td>NULL</td><td>NULL</td><td>NULL</td><td>13</td><td>1082</td></tr><tr><td>NULL</td><td>NULL</td><td>NULL</td><td>13</td><td>1464</td></tr><tr><td>NULL</td><td>NULL</td><td>NULL</td><td>13</td><td>1577</td></tr><tr><td>NULL</td><td>NULL</td><td>NULL</td><td>13</td><td>2018</td></tr><tr><td>NULL</td><td>NULL</td><td>NULL</td><td>13</td><td>2418</td></tr><tr><td>NULL</td><td>NULL</td><td>NULL</td><td>13</td><td>3257</td></tr><tr><td>NULL</td><td>NULL</td><td>NULL</td><td>13</td><td>4212</td></tr><tr><td>NULL</td><td>NULL</td><td>NULL</td><td>13</td><td>4635</td></tr><tr><td>NULL</td><td>NULL</td><td>NULL</td><td>13</td><td>4704</td></tr><tr><td>NULL</td><td>NULL</td><td>NULL</td><td>13</td><td>4734</td></tr><tr><td>NULL</td><td>NULL</td><td>NULL</td><td>13</td><td>4841</td></tr><tr><td>NULL</td><td>NULL</td><td>NULL</td><td>13</td><td>4848</td></tr><tr><td>NULL</td><td>NULL</td><td>NULL</td><td>13</td><td>4856</td></tr><tr><td>NULL</td><td>NULL</td><td>NULL</td><td>13</td><td>4928</td></tr><tr><td>NULL</td><td>NULL</td><td>NULL</td><td>13</td><td>6114</td></tr><tr><td>NULL</td><td>NULL</td><td>NULL</td><td>13</td><td>6793</td></tr><tr><td>NULL</td><td>NULL</td><td>NULL</td><td>13</td><td>6962</td></tr><tr><td>NULL</td><td>NULL</td><td>NULL</td><td>13</td><td>8717</td></tr><tr><td>NULL</td><td>NULL</td><td>NULL</td><td>14</td><td>493</td></tr><tr><td>NULL</td><td>NULL</td><td>NULL</td><td>14</td><td>1179</td></tr><tr><td>NULL</td><td>NULL</td><td>NULL</td><td>14</td><td>2693</td></tr><tr><td>Sherlock Holmes: The Complete Novels and Stories, Volume I</td><td>4.45</td><td>13</td><td>14</td><td>3581</td></tr><tr><td>NULL</td><td>NULL</td><td>NULL</td><td>14</td><td>3683</td></tr><tr><td>NULL</td><td>NULL</td><td>NULL</td><td>14</td><td>3953</td></tr><tr><td>NULL</td><td>NULL</td><td>NULL</td><td>14</td><td>4220</td></tr><tr><td>NULL</td><td>NULL</td><td>NULL</td><td>14</td><td>5076</td></tr><tr><td>NULL</td><td>NULL</td><td>NULL</td><td>14</td><td>5537</td></tr><tr><td>NULL</td><td>NULL</td><td>NULL</td><td>14</td><td>7777</td></tr><tr><td>NULL</td><td>NULL</td><td>NULL</td><td>15</td><td>191</td></tr><tr><td>The Lover</td><td>3.76</td><td>148</td><td>15</td><td>275</td></tr><tr><td>NULL</td><td>NULL</td><td>NULL</td><td>15</td><td>398</td></tr><tr><td>NULL</td><td>NULL</td><td>NULL</td><td>15</td><td>666</td></tr><tr><td>NULL</td><td>NULL</td><td>NULL</td><td>15</td><td>1491</td></tr><tr><td>NULL</td><td>NULL</td><td>NULL</td><td>15</td><td>5210</td></tr><tr><td>NULL</td><td>NULL</td><td>NULL</td><td>17</td><td>1344</td></tr><tr><td>The Good Soldier</td><td>3.72</td><td>362</td><td>20</td><td>7628</td></tr><tr><td>NULL</td><td>NULL</td><td>NULL</td><td>22</td><td>653</td></tr><tr><td>NULL</td><td>NULL</td><td>NULL</td><td>22</td><td>1403</td></tr><tr><td>NULL</td><td>NULL</td><td>NULL</td><td>22</td><td>1405</td></tr><tr><td>NULL</td><td>NULL</td><td>NULL</td><td>22</td><td>1645</td></tr><tr><td>NULL</td><td>NULL</td><td>NULL</td><td>22</td><td>2500</td></tr><tr><td>NULL</td><td>NULL</td><td>NULL</td><td>22</td><td>2691</td></tr><tr><td>NULL</td><td>NULL</td><td>NULL</td><td>22</td><td>4995</td></tr><tr><td>NULL</td><td>NULL</td><td>NULL</td><td>23</td><td>273</td></tr><tr><td>NULL</td><td>NULL</td><td>NULL</td><td>23</td><td>459</td></tr><tr><td>NULL</td><td>NULL</td><td>NULL</td><td>23</td><td>791</td></tr><tr><td>NULL</td><td>NULL</td><td>NULL</td><td>23</td><td>886</td></tr><tr><td>NULL</td><td>NULL</td><td>NULL</td><td>23</td><td>925</td></tr><tr><td>NULL</td><td>NULL</td><td>NULL</td><td>23</td><td>1198</td></tr><tr><td>NULL</td><td>NULL</td><td>NULL</td><td>23</td><td>1597</td></tr><tr><td>NULL</td><td>NULL</td><td>NULL</td><td>23</td><td>1688</td></tr><tr><td>NULL</td><td>NULL</td><td>NULL</td><td>23</td><td>2251</td></tr><tr><td>NULL</td><td>NULL</td><td>NULL</td><td>23</td><td>2350</td></tr><tr><td>NULL</td><td>NULL</td><td>NULL</td><td>23</td><td>2613</td></tr><tr><td>NULL</td><td>NULL</td><td>NULL</td><td>23</td><td>3312</td></tr><tr><td>NULL</td><td>NULL</td><td>NULL</td><td>23</td><td>3343</td></tr><tr><td>NULL</td><td>NULL</td><td>NULL</td><td>24</td><td>61</td></tr><tr><td>NULL</td><td>NULL</td><td>NULL</td><td>24</td><td>143</td></tr><tr><td>NULL</td><td>NULL</td><td>NULL</td><td>24</td><td>421</td></tr><tr><td>NULL</td><td>NULL</td><td>NULL</td><td>24</td><td>467</td></tr><tr><td>NULL</td><td>NULL</td><td>NULL</td><td>24</td><td>974</td></tr><tr><td>NULL</td><td>NULL</td><td>NULL</td><td>26</td><td>508</td></tr><tr><td>NULL</td><td>NULL</td><td>NULL</td><td>26</td><td>1796</td></tr><tr><td>NULL</td><td>NULL</td><td>NULL</td><td>26</td><td>2257</td></tr><tr><td>NULL</td><td>NULL</td><td>NULL</td><td>26</td><td>2314</td></tr><tr><td>NULL</td><td>NULL</td><td>NULL</td><td>26</td><td>2357</td></tr><tr><td>NULL</td><td>NULL</td><td>NULL</td><td>26</td><td>2738</td></tr><tr><td>NULL</td><td>NULL</td><td>NULL</td><td>26</td><td>2810</td></tr><tr><td>NULL</td><td>NULL</td><td>NULL</td><td>26</td><td>3207</td></tr><tr><td>The Thorn Birds</td><td>4.22</td><td>201</td><td>26</td><td>3412</td></tr><tr><td>The Complete Sherlock Holmes, Vol 2</td><td>4.46</td><td>117</td><td>26</td><td>3586</td></tr><tr><td>The Dark Tower (The Dark Tower, #7)</td><td>4.27</td><td>105</td><td>26</td><td>5091</td></tr><tr><td>NULL</td><td>NULL</td><td>NULL</td><td>26</td><td>5550</td></tr><tr><td>NULL</td><td>NULL</td><td>NULL</td><td>26</td><td>6877</td></tr><tr><td>NULL</td><td>NULL</td><td>NULL</td><td>26</td><td>7970</td></tr><tr><td>NULL</td><td>NULL</td><td>NULL</td><td>28</td><td>265</td></tr><tr><td>NULL</td><td>NULL</td><td>NULL</td><td>28</td><td>587</td></tr><tr><td>NULL</td><td>NULL</td><td>NULL</td><td>28</td><td>3543</td></tr><tr><td>NULL</td><td>NULL</td><td>NULL</td><td>28</td><td>5215</td></tr><tr><td>NULL</td><td>NULL</td><td>NULL</td><td>28</td><td>7496</td></tr><tr><td>NULL</td><td>NULL</td><td>NULL</td><td>28</td><td>8654</td></tr><tr><td>NULL</td><td>NULL</td><td>NULL</td><td>29</td><td>31</td></tr><tr><td>NULL</td><td>NULL</td><td>NULL</td><td>29</td><td>32</td></tr><tr><td>The Lord of the Rings: Weapons and Warfare</td><td>4.53</td><td>12</td><td>29</td><td>36</td></tr><tr><td>NULL</td><td>NULL</td><td>NULL</td><td>29</td><td>45</td></tr><tr><td>NULL</td><td>NULL</td><td>NULL</td><td>29</td><td>65</td></tr><tr><td>NULL</td><td>NULL</td><td>NULL</td><td>29</td><td>87</td></tr><tr><td>NULL</td><td>NULL</td><td>NULL</td><td>29</td><td>115</td></tr><tr><td>NULL</td><td>NULL</td><td>NULL</td><td>29</td><td>121</td></tr><tr><td>NULL</td><td>NULL</td><td>NULL</td><td>29</td><td>131</td></tr><tr><td>NULL</td><td>NULL</td><td>NULL</td><td>29</td><td>178</td></tr><tr><td>NULL</td><td>NULL</td><td>NULL</td><td>29</td><td>256</td></tr><tr><td>NULL</td><td>NULL</td><td>NULL</td><td>29</td><td>323</td></tr><tr><td>Slouching Towards Bethlehem</td><td>4.24</td><td>34</td><td>29</td><td>424</td></tr><tr><td>NULL</td><td>NULL</td><td>NULL</td><td>29</td><td>467</td></tr><tr><td>NULL</td><td>NULL</td><td>NULL</td><td>29</td><td>550</td></tr><tr><td>NULL</td><td>NULL</td><td>NULL</td><td>29</td><td>618</td></tr><tr><td>Atlas Shrugged</td><td>3.68</td><td>147</td><td>29</td><td>662</td></tr><tr><td>NULL</td><td>NULL</td><td>NULL</td><td>29</td><td>709</td></tr><tr><td>NULL</td><td>NULL</td><td>NULL</td><td>29</td><td>730</td></tr><tr><td>NULL</td><td>NULL</td><td>NULL</td><td>29</td><td>771</td></tr><tr><td>NULL</td><td>NULL</td><td>NULL</td><td>29</td><td>809</td></tr><tr><td>NULL</td><td>NULL</td><td>NULL</td><td>29</td><td>934</td></tr><tr><td>NULL</td><td>NULL</td><td>NULL</td><td>29</td><td>1084</td></tr><tr><td>NULL</td><td>NULL</td><td>NULL</td><td>29</td><td>1364</td></tr><tr><td>NULL</td><td>NULL</td><td>NULL</td><td>29</td><td>1642</td></tr><tr><td>NULL</td><td>NULL</td><td>NULL</td><td>29</td><td>1695</td></tr><tr><td>NULL</td><td>NULL</td><td>NULL</td><td>29</td><td>2259</td></tr><tr><td>NULL</td><td>NULL</td><td>NULL</td><td>29</td><td>2284</td></tr><tr><td>NULL</td><td>NULL</td><td>NULL</td><td>29</td><td>2304</td></tr><tr><td>NULL</td><td>NULL</td><td>NULL</td><td>29</td><td>2967</td></tr><tr><td>NULL</td><td>NULL</td><td>NULL</td><td>29</td><td>3508</td></tr><tr><td>NULL</td><td>NULL</td><td>NULL</td><td>29</td><td>4359</td></tr><tr><td>NULL</td><td>NULL</td><td>NULL</td><td>29</td><td>4394</td></tr><tr><td>NULL</td><td>NULL</td><td>NULL</td><td>29</td><td>4475</td></tr><tr><td>NULL</td><td>NULL</td><td>NULL</td><td>29</td><td>4629</td></tr><tr><td>NULL</td><td>NULL</td><td>NULL</td><td>29</td><td>5090</td></tr><tr><td>NULL</td><td>NULL</td><td>NULL</td><td>29</td><td>5596</td></tr><tr><td>NULL</td><td>NULL</td><td>NULL</td><td>29</td><td>5851</td></tr><tr><td>NULL</td><td>NULL</td><td>NULL</td><td>29</td><td>6104</td></tr><tr><td>NULL</td><td>NULL</td><td>NULL</td><td>30</td><td>47</td></tr><tr><td>The Known World</td><td>3.82</td><td>42</td><td>30</td><td>67</td></tr><tr><td>NULL</td><td>NULL</td><td>NULL</td><td>30</td><td>82</td></tr><tr><td>NULL</td><td>NULL</td><td>NULL</td><td>30</td><td>121</td></tr><tr><td>NULL</td><td>NULL</td><td>NULL</td><td>30</td><td>177</td></tr><tr><td>Tropic of Cancer</td><td>3.71</td><td>205</td><td>30</td><td>249</td></tr><tr><td>NULL</td><td>NULL</td><td>NULL</td><td>30</td><td>297</td></tr><tr><td>NULL</td><td>NULL</td><td>NULL</td><td>30</td><td>407</td></tr><tr><td>NULL</td><td>NULL</td><td>NULL</td><td>30</td><td>426</td></tr><tr><td>NULL</td><td>NULL</td><td>NULL</td><td>30</td><td>430</td></tr><tr><td>NULL</td><td>NULL</td><td>NULL</td><td>30</td><td>442</td></tr><tr><td>NULL</td><td>NULL</td><td>NULL</td><td>30</td><td>516</td></tr><tr><td>NULL</td><td>NULL</td><td>NULL</td><td>30</td><td>658</td></tr><tr><td>NULL</td><td>NULL</td><td>NULL</td><td>30</td><td>895</td></tr><tr><td>NULL</td><td>NULL</td><td>NULL</td><td>30</td><td>1039</td></tr><tr><td>NULL</td><td>NULL</td><td>NULL</td><td>30</td><td>1094</td></tr><tr><td>The Odyssey</td><td>3.73</td><td>1703</td><td>30</td><td>1381</td></tr><tr><td>NULL</td><td>NULL</td><td>NULL</td><td>30</td><td>2117</td></tr><tr><td>NULL</td><td>NULL</td><td>NULL</td><td>30</td><td>2426</td></tr><tr><td>NULL</td><td>NULL</td><td>NULL</td><td>30</td><td>3444</td></tr><tr><td>The Pilgrimage</td><td>3.64</td><td>171</td><td>30</td><td>4004</td></tr><tr><td>NULL</td><td>NULL</td><td>NULL</td><td>30</td><td>4202</td></tr><tr><td>NULL</td><td>NULL</td><td>NULL</td><td>30</td><td>4509</td></tr><tr><td>NULL</td><td>NULL</td><td>NULL</td><td>30</td><td>5880</td></tr><tr><td>The Hobbit</td><td>4.25</td><td>969</td><td>30</td><td>5907</td></tr><tr><td>NULL</td><td>NULL</td><td>NULL</td><td>30</td><td>6828</td></tr><tr><td>NULL</td><td>NULL</td><td>NULL</td><td>30</td><td>7563</td></tr><tr><td>NULL</td><td>NULL</td><td>NULL</td><td>30</td><td>8737</td></tr><tr><td>NULL</td><td>NULL</td><td>NULL</td><td>31</td><td>94</td></tr><tr><td>NULL</td><td>NULL</td><td>NULL</td><td>31</td><td>584</td></tr></table>"
                    },
                    "metadata": {}
                }
            ],
            "execution_count": 2
        },
        {
            "cell_type": "markdown",
            "source": [
                "## **QUESTION 3:** Exploring FULL JOINS with the **books** and **to\\_read** tables\n",
                "\n",
                "You will need to uncomment the Query to answer the question.\n",
                "\n",
                "**Part A:**  Look at the table and explore how it was populated.  Try manipulating the query to better understand how this table works.  Try adding a WHERE clause, or ORDER BY a column on the **books** table.  Based on your exploration, can you think of when you might want a FULL join rather than a LEFT, RIGHT, or INNER?\n",
                "\n",
                "> Your Answer: when we wre mauplating our code with WHERE and ORDER BY clauses in table results returing in way to readable and understandable."
            ],
            "metadata": {
                "azdata_cell_guid": "8f6b8f22-3e5a-4b87-a2f2-07279f1deb94"
            },
            "attachments": {}
        },
        {
            "cell_type": "code",
            "source": [
                "\n",
                "-- FULL JOIN\n",
                "SELECT TOP 30 b.title, b.average_rating, b.books_count,tr.user_id, tr.book_id\n",
                "FROM BooksDB.dbo.books AS b\n",
                "FULL JOIN BooksDB.dbo.to_read AS tr\n",
                "ON b.book_id = tr.book_id\n",
                "WHERE b.title IS NOT NULL\n",
                "ORDER BY tr.user_id"
            ],
            "metadata": {
                "azdata_cell_guid": "7c2a3dff-ef55-4222-aef0-7c0ab4f942eb",
                "tags": [],
                "language": "sql"
            },
            "outputs": [
                {
                    "output_type": "display_data",
                    "data": {
                        "text/html": "(30 rows affected)"
                    },
                    "metadata": {}
                },
                {
                    "output_type": "display_data",
                    "data": {
                        "text/html": "Total execution time: 00:00:00.149"
                    },
                    "metadata": {}
                },
                {
                    "output_type": "execute_result",
                    "metadata": {},
                    "execution_count": 4,
                    "data": {
                        "application/vnd.dataresource+json": {
                            "schema": {
                                "fields": [
                                    {
                                        "name": "title"
                                    },
                                    {
                                        "name": "average_rating"
                                    },
                                    {
                                        "name": "books_count"
                                    },
                                    {
                                        "name": "user_id"
                                    },
                                    {
                                        "name": "book_id"
                                    }
                                ]
                            },
                            "data": [
                                {
                                    "title": "Chains (Seeds of America, #1)",
                                    "average_rating": "4.09",
                                    "books_count": "26",
                                    "user_id": "NULL",
                                    "book_id": "NULL"
                                },
                                {
                                    "title": "Priestess of Avalon (Avalon, #4)",
                                    "average_rating": "4.03",
                                    "books_count": "48",
                                    "user_id": "NULL",
                                    "book_id": "NULL"
                                },
                                {
                                    "title": "Neanderthal Seeks Human (Knitting in the City, #1)",
                                    "average_rating": "3.96",
                                    "books_count": "11",
                                    "user_id": "NULL",
                                    "book_id": "NULL"
                                },
                                {
                                    "title": "The Empathy Exams: Essays",
                                    "average_rating": "3.62",
                                    "books_count": "18",
                                    "user_id": "NULL",
                                    "book_id": "NULL"
                                },
                                {
                                    "title": "Snakehead (Alex Rider, #7)",
                                    "average_rating": "4.15",
                                    "books_count": "49",
                                    "user_id": "NULL",
                                    "book_id": "NULL"
                                },
                                {
                                    "title": "The Target (Will Robie, #3)",
                                    "average_rating": "4.04",
                                    "books_count": "45",
                                    "user_id": "NULL",
                                    "book_id": "NULL"
                                },
                                {
                                    "title": "5 cm",
                                    "average_rating": "3.84",
                                    "books_count": "3",
                                    "user_id": "NULL",
                                    "book_id": "NULL"
                                },
                                {
                                    "title": "A Knight of the Word (Word & Void, #2)",
                                    "average_rating": "4.04",
                                    "books_count": "37",
                                    "user_id": "NULL",
                                    "book_id": "NULL"
                                },
                                {
                                    "title": "Twenties Girl",
                                    "average_rating": "3.82",
                                    "books_count": "74",
                                    "user_id": "NULL",
                                    "book_id": "NULL"
                                },
                                {
                                    "title": "The Three (The Three, #1)",
                                    "average_rating": "3.32",
                                    "books_count": "51",
                                    "user_id": "NULL",
                                    "book_id": "NULL"
                                },
                                {
                                    "title": "Guardians of the West (The Malloreon, #1)",
                                    "average_rating": "4.09",
                                    "books_count": "45",
                                    "user_id": "NULL",
                                    "book_id": "NULL"
                                },
                                {
                                    "title": "Wall and Piece",
                                    "average_rating": "3.83",
                                    "books_count": "15",
                                    "user_id": "NULL",
                                    "book_id": "NULL"
                                },
                                {
                                    "title": "The Man in the Iron Mask (The D'Artagnan Romances, #3.3)",
                                    "average_rating": "3.97",
                                    "books_count": "426",
                                    "user_id": "NULL",
                                    "book_id": "NULL"
                                },
                                {
                                    "title": "Out of Africa",
                                    "average_rating": "3.96",
                                    "books_count": "165",
                                    "user_id": "NULL",
                                    "book_id": "NULL"
                                },
                                {
                                    "title": "Grass for His Pillow (Tales of the Otori, #2)",
                                    "average_rating": "4.01",
                                    "books_count": "78",
                                    "user_id": "NULL",
                                    "book_id": "NULL"
                                },
                                {
                                    "title": "The Talented Mr. Ripley (Ripley, #1)",
                                    "average_rating": "3.93",
                                    "books_count": "139",
                                    "user_id": "NULL",
                                    "book_id": "NULL"
                                },
                                {
                                    "title": "Chanakya's Chant",
                                    "average_rating": "3.68",
                                    "books_count": "14",
                                    "user_id": "NULL",
                                    "book_id": "NULL"
                                },
                                {
                                    "title": "Kambing Jantan: Sebuah Catatan Harian Pelajar Bodoh ",
                                    "average_rating": "3.59",
                                    "books_count": "2",
                                    "user_id": "NULL",
                                    "book_id": "NULL"
                                },
                                {
                                    "title": "The Omen Machine (Sword of Truth, #12; Richard and Kahlan, #1)",
                                    "average_rating": "3.66",
                                    "books_count": "39",
                                    "user_id": "NULL",
                                    "book_id": "NULL"
                                },
                                {
                                    "title": "Matter (Culture, #8)",
                                    "average_rating": "4.03",
                                    "books_count": "29",
                                    "user_id": "NULL",
                                    "book_id": "NULL"
                                },
                                {
                                    "title": "Y: The Last Man, Vol. 1: Unmanned",
                                    "average_rating": "4.12",
                                    "books_count": "19",
                                    "user_id": "NULL",
                                    "book_id": "NULL"
                                },
                                {
                                    "title": "The Rent Collector",
                                    "average_rating": "4.23",
                                    "books_count": "6",
                                    "user_id": "NULL",
                                    "book_id": "NULL"
                                },
                                {
                                    "title": "By the Light of the Moon",
                                    "average_rating": "3.84",
                                    "books_count": "44",
                                    "user_id": "NULL",
                                    "book_id": "NULL"
                                },
                                {
                                    "title": "The Elvenbane (Halfblood Chronicles, #1)",
                                    "average_rating": "3.94",
                                    "books_count": "25",
                                    "user_id": "NULL",
                                    "book_id": "NULL"
                                },
                                {
                                    "title": "All the President's Men",
                                    "average_rating": "4.17",
                                    "books_count": "63",
                                    "user_id": "NULL",
                                    "book_id": "NULL"
                                },
                                {
                                    "title": "Skin Tight (Mick Stranahan, #1)",
                                    "average_rating": "3.96",
                                    "books_count": "36",
                                    "user_id": "NULL",
                                    "book_id": "NULL"
                                },
                                {
                                    "title": "النبطي",
                                    "average_rating": "3.43",
                                    "books_count": "7",
                                    "user_id": "NULL",
                                    "book_id": "NULL"
                                },
                                {
                                    "title": "The 3 Mistakes of My Life",
                                    "average_rating": "2.97",
                                    "books_count": "18",
                                    "user_id": "NULL",
                                    "book_id": "NULL"
                                },
                                {
                                    "title": "Fish in a Tree",
                                    "average_rating": "4.28",
                                    "books_count": "30",
                                    "user_id": "NULL",
                                    "book_id": "NULL"
                                },
                                {
                                    "title": "The Amber Spyglass (His Dark Materials, #3)",
                                    "average_rating": "4.06",
                                    "books_count": "42",
                                    "user_id": "NULL",
                                    "book_id": "NULL"
                                }
                            ]
                        },
                        "text/html": [
                            "<table>",
                            "<tr><th>title</th><th>average_rating</th><th>books_count</th><th>user_id</th><th>book_id</th></tr>",
                            "<tr><td>Chains (Seeds of America, #1)</td><td>4.09</td><td>26</td><td>NULL</td><td>NULL</td></tr>",
                            "<tr><td>Priestess of Avalon (Avalon, #4)</td><td>4.03</td><td>48</td><td>NULL</td><td>NULL</td></tr>",
                            "<tr><td>Neanderthal Seeks Human (Knitting in the City, #1)</td><td>3.96</td><td>11</td><td>NULL</td><td>NULL</td></tr>",
                            "<tr><td>The Empathy Exams: Essays</td><td>3.62</td><td>18</td><td>NULL</td><td>NULL</td></tr>",
                            "<tr><td>Snakehead (Alex Rider, #7)</td><td>4.15</td><td>49</td><td>NULL</td><td>NULL</td></tr>",
                            "<tr><td>The Target (Will Robie, #3)</td><td>4.04</td><td>45</td><td>NULL</td><td>NULL</td></tr>",
                            "<tr><td>5 cm</td><td>3.84</td><td>3</td><td>NULL</td><td>NULL</td></tr>",
                            "<tr><td>A Knight of the Word (Word &amp; Void, #2)</td><td>4.04</td><td>37</td><td>NULL</td><td>NULL</td></tr>",
                            "<tr><td>Twenties Girl</td><td>3.82</td><td>74</td><td>NULL</td><td>NULL</td></tr>",
                            "<tr><td>The Three (The Three, #1)</td><td>3.32</td><td>51</td><td>NULL</td><td>NULL</td></tr>",
                            "<tr><td>Guardians of the West (The Malloreon, #1)</td><td>4.09</td><td>45</td><td>NULL</td><td>NULL</td></tr>",
                            "<tr><td>Wall and Piece</td><td>3.83</td><td>15</td><td>NULL</td><td>NULL</td></tr>",
                            "<tr><td>The Man in the Iron Mask (The D&#39;Artagnan Romances, #3.3)</td><td>3.97</td><td>426</td><td>NULL</td><td>NULL</td></tr>",
                            "<tr><td>Out of Africa</td><td>3.96</td><td>165</td><td>NULL</td><td>NULL</td></tr>",
                            "<tr><td>Grass for His Pillow (Tales of the Otori, #2)</td><td>4.01</td><td>78</td><td>NULL</td><td>NULL</td></tr>",
                            "<tr><td>The Talented Mr. Ripley (Ripley, #1)</td><td>3.93</td><td>139</td><td>NULL</td><td>NULL</td></tr>",
                            "<tr><td>Chanakya&#39;s Chant</td><td>3.68</td><td>14</td><td>NULL</td><td>NULL</td></tr>",
                            "<tr><td>Kambing Jantan: Sebuah Catatan Harian Pelajar Bodoh </td><td>3.59</td><td>2</td><td>NULL</td><td>NULL</td></tr>",
                            "<tr><td>The Omen Machine (Sword of Truth, #12; Richard and Kahlan, #1)</td><td>3.66</td><td>39</td><td>NULL</td><td>NULL</td></tr>",
                            "<tr><td>Matter (Culture, #8)</td><td>4.03</td><td>29</td><td>NULL</td><td>NULL</td></tr>",
                            "<tr><td>Y: The Last Man, Vol. 1: Unmanned</td><td>4.12</td><td>19</td><td>NULL</td><td>NULL</td></tr>",
                            "<tr><td>The Rent Collector</td><td>4.23</td><td>6</td><td>NULL</td><td>NULL</td></tr>",
                            "<tr><td>By the Light of the Moon</td><td>3.84</td><td>44</td><td>NULL</td><td>NULL</td></tr>",
                            "<tr><td>The Elvenbane (Halfblood Chronicles, #1)</td><td>3.94</td><td>25</td><td>NULL</td><td>NULL</td></tr>",
                            "<tr><td>All the President&#39;s Men</td><td>4.17</td><td>63</td><td>NULL</td><td>NULL</td></tr>",
                            "<tr><td>Skin Tight (Mick Stranahan, #1)</td><td>3.96</td><td>36</td><td>NULL</td><td>NULL</td></tr>",
                            "<tr><td>النبطي</td><td>3.43</td><td>7</td><td>NULL</td><td>NULL</td></tr>",
                            "<tr><td>The 3 Mistakes of My Life</td><td>2.97</td><td>18</td><td>NULL</td><td>NULL</td></tr>",
                            "<tr><td>Fish in a Tree</td><td>4.28</td><td>30</td><td>NULL</td><td>NULL</td></tr>",
                            "<tr><td>The Amber Spyglass (His Dark Materials, #3)</td><td>4.06</td><td>42</td><td>NULL</td><td>NULL</td></tr>",
                            "</table>"
                        ]
                    }
                }
            ],
            "execution_count": 4
        },
        {
            "cell_type": "markdown",
            "source": [
                "##  **QUESTION 4:** Exploring INNER Joins with the **books** and **to\\_read** tables\n",
                "\n",
                "You will need to uncomment the Query to answer the question.\n",
                "\n",
                "**Part A:**  What does an inner join do?\n",
                "\n",
                "> <span style=\"background-color: rgba(127, 127, 127, 0.1); font-family: -apple-system, BlinkMacSystemFont, sans-serif;\">Your Answer: inner join results with table containg common columns names in both tables.</span>\n",
                "\n",
                "<span style=\"background-color: rgba(127, 127, 127, 0.1); font-family: -apple-system, BlinkMacSystemFont, sans-serif;\"><b>Part B:</b>&nbsp;Currently this table has an <b>'IS NOT NULL'</b> in the <b>WHERE</b> clause.&nbsp; Is this necessary for this table?&nbsp; Why or Why not?&nbsp;</span>   \n",
                "\n",
                "> Your Answer: \n",
                "> \n",
                "> **'IS NOT NULL ' in the**  **WHERE**      <span style=\"font-family: -apple-system, BlinkMacSystemFont, sans-serif; color: var(--vscode-foreground);\">&nbsp; clause returns table without null values in both tables ....is not necessary for this table since we are working on average values ...resulting with null doesnt make any sense .</span>\n",
                "\n",
                "**Part C:**  When using SQL, you are usually returning much larger tables so every line of code will add to the compilation and return time.  Rewrite this inner join query so that it contains no redundant code.   \n",
                "\n",
                "> Your Answer:  Update the query in the code box below.\n",
                "> \n",
                "> if they  dont see harry potter ...then something is wrong."
            ],
            "metadata": {
                "azdata_cell_guid": "4dab11ce-7995-4444-92dd-4cb2c0bc02c8"
            },
            "attachments": {}
        },
        {
            "cell_type": "code",
            "source": [
                "\n",
                "-- INNER JOIN\n",
                "SELECT TOP 10 b.title, b.average_rating, b.books_count,tr.user_id, tr.book_id\n",
                "FROM BooksDB.dbo.books AS b\n",
                "INNER JOIN BooksDB.dbo.to_read AS tr\n",
                "ON b.book_id = tr.book_id\n",
                "WHERE b.title IS NOT  NULL\n",
                "ORDER BY tr.book_id;\n",
                ""
            ],
            "metadata": {
                "azdata_cell_guid": "66d430ab-18aa-4a29-a32d-0585445e417c",
                "tags": [],
                "language": "sql"
            },
            "outputs": [
                {
                    "output_type": "display_data",
                    "data": {
                        "text/html": "(10 rows affected)"
                    },
                    "metadata": {}
                },
                {
                    "output_type": "display_data",
                    "data": {
                        "text/html": "Total execution time: 00:00:00.074"
                    },
                    "metadata": {}
                },
                {
                    "output_type": "execute_result",
                    "execution_count": 39,
                    "data": {
                        "application/vnd.dataresource+json": {
                            "schema": {
                                "fields": [
                                    {
                                        "name": "title"
                                    },
                                    {
                                        "name": "average_rating"
                                    },
                                    {
                                        "name": "books_count"
                                    },
                                    {
                                        "name": "user_id"
                                    },
                                    {
                                        "name": "book_id"
                                    }
                                ]
                            },
                            "data": [
                                {
                                    "title": "Harry Potter and the Half-Blood Prince (Harry Potter, #6)",
                                    "average_rating": "4.54",
                                    "books_count": "275",
                                    "user_id": "12",
                                    "book_id": "1"
                                },
                                {
                                    "title": "Harry Potter and the Half-Blood Prince (Harry Potter, #6)",
                                    "average_rating": "4.54",
                                    "books_count": "275",
                                    "user_id": "192",
                                    "book_id": "1"
                                },
                                {
                                    "title": "Harry Potter and the Half-Blood Prince (Harry Potter, #6)",
                                    "average_rating": "4.54",
                                    "books_count": "275",
                                    "user_id": "202",
                                    "book_id": "1"
                                },
                                {
                                    "title": "Harry Potter and the Half-Blood Prince (Harry Potter, #6)",
                                    "average_rating": "4.54",
                                    "books_count": "275",
                                    "user_id": "244",
                                    "book_id": "1"
                                },
                                {
                                    "title": "Harry Potter and the Half-Blood Prince (Harry Potter, #6)",
                                    "average_rating": "4.54",
                                    "books_count": "275",
                                    "user_id": "253",
                                    "book_id": "1"
                                },
                                {
                                    "title": "Harry Potter and the Half-Blood Prince (Harry Potter, #6)",
                                    "average_rating": "4.54",
                                    "books_count": "275",
                                    "user_id": "350",
                                    "book_id": "1"
                                },
                                {
                                    "title": "Harry Potter and the Half-Blood Prince (Harry Potter, #6)",
                                    "average_rating": "4.54",
                                    "books_count": "275",
                                    "user_id": "478",
                                    "book_id": "1"
                                },
                                {
                                    "title": "Harry Potter and the Half-Blood Prince (Harry Potter, #6)",
                                    "average_rating": "4.54",
                                    "books_count": "275",
                                    "user_id": "511",
                                    "book_id": "1"
                                },
                                {
                                    "title": "Harry Potter and the Half-Blood Prince (Harry Potter, #6)",
                                    "average_rating": "4.54",
                                    "books_count": "275",
                                    "user_id": "525",
                                    "book_id": "1"
                                },
                                {
                                    "title": "Harry Potter and the Half-Blood Prince (Harry Potter, #6)",
                                    "average_rating": "4.54",
                                    "books_count": "275",
                                    "user_id": "527",
                                    "book_id": "1"
                                }
                            ]
                        },
                        "text/html": "<table><tr><th>title</th><th>average_rating</th><th>books_count</th><th>user_id</th><th>book_id</th></tr><tr><td>Harry Potter and the Half-Blood Prince (Harry Potter, #6)</td><td>4.54</td><td>275</td><td>12</td><td>1</td></tr><tr><td>Harry Potter and the Half-Blood Prince (Harry Potter, #6)</td><td>4.54</td><td>275</td><td>192</td><td>1</td></tr><tr><td>Harry Potter and the Half-Blood Prince (Harry Potter, #6)</td><td>4.54</td><td>275</td><td>202</td><td>1</td></tr><tr><td>Harry Potter and the Half-Blood Prince (Harry Potter, #6)</td><td>4.54</td><td>275</td><td>244</td><td>1</td></tr><tr><td>Harry Potter and the Half-Blood Prince (Harry Potter, #6)</td><td>4.54</td><td>275</td><td>253</td><td>1</td></tr><tr><td>Harry Potter and the Half-Blood Prince (Harry Potter, #6)</td><td>4.54</td><td>275</td><td>350</td><td>1</td></tr><tr><td>Harry Potter and the Half-Blood Prince (Harry Potter, #6)</td><td>4.54</td><td>275</td><td>478</td><td>1</td></tr><tr><td>Harry Potter and the Half-Blood Prince (Harry Potter, #6)</td><td>4.54</td><td>275</td><td>511</td><td>1</td></tr><tr><td>Harry Potter and the Half-Blood Prince (Harry Potter, #6)</td><td>4.54</td><td>275</td><td>525</td><td>1</td></tr><tr><td>Harry Potter and the Half-Blood Prince (Harry Potter, #6)</td><td>4.54</td><td>275</td><td>527</td><td>1</td></tr></table>"
                    },
                    "metadata": {}
                }
            ],
            "execution_count": 39
        },
        {
            "cell_type": "markdown",
            "source": [
                "## **QUESTION 5:**  Using joins to find the most tagged book and the most popular tag\n",
                "\n",
                "We will be writing 3 queries to find both the most tagged book and that book's most popular tag.\n",
                "\n",
                "**Part A:**  What is the most tagged book?\n",
                "\n",
                "> <span style=\"background-color: rgba(127, 127, 127, 0.1); font-family: -apple-system, BlinkMacSystemFont, sans-serif;\">Start by joining the </span> **books** <span style=\"background-color: rgba(127, 127, 127, 0.1); font-family: -apple-system, BlinkMacSystemFont, sans-serif;\">and </span> **book\\_tags**           <span style=\"background-color: rgba(127, 127, 127, 0.1); font-family: -apple-system, BlinkMacSystemFont, sans-serif;\">&nbsp;tables ON the books.best_book_id and book_tags.goodreads_book_id.&nbsp;&nbsp;<br></span>                    <span style=\"background-color: rgba(127, 127, 127, 0.1); font-family: -apple-system, BlinkMacSystemFont, sans-serif;\">We want the <i>most popular</i> book, so think about ordering the table in a way that will display both the book title and the number of times a book tag has been used.</span>\n",
                "> \n",
                "> _MInimum Desired output:_  The title of the most tagged book, and the number of times the book has been tagged.\n",
                "> \n",
                "> **Title:**\n",
                "> \n",
                "> The Alchemist  596234 tags   \n",
                "\n",
                "**Part B:** How many different tags have been used for the most tagged book?\n",
                "\n",
                "> <span style=\"font-family: -apple-system, BlinkMacSystemFont, sans-serif; background-color: rgba(127, 127, 127, 0.1);\">Start by joining the&nbsp;</span>           **books** <span style=\"font-family: -apple-system, BlinkMacSystemFont, sans-serif; background-color: rgba(127, 127, 127, 0.1);\">and&nbsp;</span>           **book\\_tags**           <span style=\"font-family: -apple-system, BlinkMacSystemFont, sans-serif; background-color: rgba(127, 127, 127, 0.1);\">&nbsp;tables ON the books.best_book_id and book_tags.goodreads_book_id.&nbsp;&nbsp;<br></span>                    We want to find the _most popular_ tag id, so think about ordering in a way that will display the most popular tag id.\n",
                "> \n",
                "> <span style=\"font-family: -apple-system, BlinkMacSystemFont, sans-serif; background-color: rgba(127, 127, 127, 0.1);\"><i>Minimum Desired Output:</i> The tag id for the most popular tag used for the most tagged book.&nbsp;</span>          \n",
                "> \n",
                "> <span style=\"font-family: -apple-system, BlinkMacSystemFont, sans-serif; background-color: rgba(127, 127, 127, 0.1);\"><b>Tag Id: 100</b></span>\n",
                "\n",
                "<span style=\"font-family: -apple-system, BlinkMacSystemFont, sans-serif; background-color: rgba(127, 127, 127, 0.1);\"><b>Part C: </b>What is this particular tag?</span>\n",
                "\n",
                "> You may return this answer with a simple query.\n",
                "\n",
                "> <span style=\"font-family: -apple-system, BlinkMacSystemFont, sans-serif; background-color: rgba(127, 127, 127, 0.1);\"><i>Minimum Desired Output:</i>&nbsp;The tag name for the most popular tag used for the most tagged book.&nbsp;</span>          \n",
                "> \n",
                "> <span style=\"font-family: -apple-system, BlinkMacSystemFont, sans-serif; background-color: rgba(127, 127, 127, 0.1);\"><b>Tag Name:</b></span>\n",
                "> \n",
                "> **to\\_read**"
            ],
            "metadata": {
                "azdata_cell_guid": "a685e9cc-2ae2-40e8-8cc1-022c8064d66d"
            },
            "attachments": {}
        },
        {
            "cell_type": "code",
            "source": [
                "SELECT TOP 10 b.title,bt.count\n",
                "FROM BooksDB.dbo.books AS b\n",
                "INNER JOIN BooksDB.dbo.book_tags  AS bt\n",
                "ON b.best_book_id = bt.goodreads_book_id\n",
                "ORDER BY bt.count DESC;\n",
                "\n",
                ""
            ],
            "metadata": {
                "language": "sql",
                "azdata_cell_guid": "90f8407d-f376-4018-ba1a-da89248fcb96",
                "tags": []
            },
            "outputs": [
                {
                    "output_type": "display_data",
                    "data": {
                        "text/html": "(10 rows affected)"
                    },
                    "metadata": {}
                },
                {
                    "output_type": "display_data",
                    "data": {
                        "text/html": "Total execution time: 00:00:00.675"
                    },
                    "metadata": {}
                },
                {
                    "output_type": "execute_result",
                    "metadata": {},
                    "execution_count": 5,
                    "data": {
                        "application/vnd.dataresource+json": {
                            "schema": {
                                "fields": [
                                    {
                                        "name": "title"
                                    },
                                    {
                                        "name": "count"
                                    }
                                ]
                            },
                            "data": [
                                {
                                    "title": "The Alchemist",
                                    "count": "596234"
                                },
                                {
                                    "title": "The Girl with the Dragon Tattoo (Millennium, #1)",
                                    "count": "586235"
                                },
                                {
                                    "title": "All the Light We Cannot See",
                                    "count": "505884"
                                },
                                {
                                    "title": "Harry Potter and the Sorcerer's Stone (Harry Potter, #1)",
                                    "count": "496107"
                                },
                                {
                                    "title": "Les Misérables",
                                    "count": "488469"
                                },
                                {
                                    "title": "Cinder (The Lunar Chronicles, #1)",
                                    "count": "474954"
                                },
                                {
                                    "title": "Catch-22",
                                    "count": "465640"
                                },
                                {
                                    "title": "Gone with the Wind",
                                    "count": "454565"
                                },
                                {
                                    "title": "Slaughterhouse-Five",
                                    "count": "443942"
                                },
                                {
                                    "title": "A Tale of Two Cities",
                                    "count": "402942"
                                }
                            ]
                        },
                        "text/html": [
                            "<table>",
                            "<tr><th>title</th><th>count</th></tr>",
                            "<tr><td>The Alchemist</td><td>596234</td></tr>",
                            "<tr><td>The Girl with the Dragon Tattoo (Millennium, #1)</td><td>586235</td></tr>",
                            "<tr><td>All the Light We Cannot See</td><td>505884</td></tr>",
                            "<tr><td>Harry Potter and the Sorcerer&#39;s Stone (Harry Potter, #1)</td><td>496107</td></tr>",
                            "<tr><td>Les Misérables</td><td>488469</td></tr>",
                            "<tr><td>Cinder (The Lunar Chronicles, #1)</td><td>474954</td></tr>",
                            "<tr><td>Catch-22</td><td>465640</td></tr>",
                            "<tr><td>Gone with the Wind</td><td>454565</td></tr>",
                            "<tr><td>Slaughterhouse-Five</td><td>443942</td></tr>",
                            "<tr><td>A Tale of Two Cities</td><td>402942</td></tr>",
                            "</table>"
                        ]
                    }
                }
            ],
            "execution_count": 5
        },
        {
            "cell_type": "code",
            "source": [
                "SELECT TOP 500 b.title,bt.tag_id\n",
                "FROM BooksDB.dbo.books AS b\n",
                "INNER JOIN BooksDB.dbo.book_tags  AS bt\n",
                "ON b.best_book_id = bt.goodreads_book_id \n",
                "WHERE b.title ='The Alchemist'\n",
                "ORDER BY bt.[count] DESC;"
            ],
            "metadata": {
                "language": "sql",
                "azdata_cell_guid": "d87b56d6-e5e9-4029-8d65-f53ae76de370"
            },
            "outputs": [
                {
                    "output_type": "display_data",
                    "data": {
                        "text/html": "(100 rows affected)"
                    },
                    "metadata": {}
                },
                {
                    "output_type": "display_data",
                    "data": {
                        "text/html": "Total execution time: 00:00:00.290"
                    },
                    "metadata": {}
                },
                {
                    "output_type": "execute_result",
                    "metadata": {},
                    "execution_count": 6,
                    "data": {
                        "application/vnd.dataresource+json": {
                            "schema": {
                                "fields": [
                                    {
                                        "name": "title"
                                    },
                                    {
                                        "name": "tag_id"
                                    }
                                ]
                            },
                            "data": [
                                {
                                    "title": "The Alchemist",
                                    "tag_id": "30574"
                                },
                                {
                                    "title": "The Alchemist",
                                    "tag_id": "8717"
                                },
                                {
                                    "title": "The Alchemist",
                                    "tag_id": "11743"
                                },
                                {
                                    "title": "The Alchemist",
                                    "tag_id": "11557"
                                },
                                {
                                    "title": "The Alchemist",
                                    "tag_id": "7457"
                                },
                                {
                                    "title": "The Alchemist",
                                    "tag_id": "11305"
                                },
                                {
                                    "title": "The Alchemist",
                                    "tag_id": "23471"
                                },
                                {
                                    "title": "The Alchemist",
                                    "tag_id": "22743"
                                },
                                {
                                    "title": "The Alchemist",
                                    "tag_id": "5207"
                                },
                                {
                                    "title": "The Alchemist",
                                    "tag_id": "4949"
                                },
                                {
                                    "title": "The Alchemist",
                                    "tag_id": "22034"
                                },
                                {
                                    "title": "The Alchemist",
                                    "tag_id": "28384"
                                },
                                {
                                    "title": "The Alchemist",
                                    "tag_id": "23150"
                                },
                                {
                                    "title": "The Alchemist",
                                    "tag_id": "15626"
                                },
                                {
                                    "title": "The Alchemist",
                                    "tag_id": "18367"
                                },
                                {
                                    "title": "The Alchemist",
                                    "tag_id": "21989"
                                },
                                {
                                    "title": "The Alchemist",
                                    "tag_id": "28341"
                                },
                                {
                                    "title": "The Alchemist",
                                    "tag_id": "1691"
                                },
                                {
                                    "title": "The Alchemist",
                                    "tag_id": "7404"
                                },
                                {
                                    "title": "The Alchemist",
                                    "tag_id": "11590"
                                },
                                {
                                    "title": "The Alchemist",
                                    "tag_id": "22753"
                                },
                                {
                                    "title": "The Alchemist",
                                    "tag_id": "8055"
                                },
                                {
                                    "title": "The Alchemist",
                                    "tag_id": "27095"
                                },
                                {
                                    "title": "The Alchemist",
                                    "tag_id": "33777"
                                },
                                {
                                    "title": "The Alchemist",
                                    "tag_id": "18919"
                                },
                                {
                                    "title": "The Alchemist",
                                    "tag_id": "1642"
                                },
                                {
                                    "title": "The Alchemist",
                                    "tag_id": "30521"
                                },
                                {
                                    "title": "The Alchemist",
                                    "tag_id": "1659"
                                },
                                {
                                    "title": "The Alchemist",
                                    "tag_id": "14487"
                                },
                                {
                                    "title": "The Alchemist",
                                    "tag_id": "20774"
                                },
                                {
                                    "title": "The Alchemist",
                                    "tag_id": "18045"
                                },
                                {
                                    "title": "The Alchemist",
                                    "tag_id": "12948"
                                },
                                {
                                    "title": "The Alchemist",
                                    "tag_id": "7563"
                                },
                                {
                                    "title": "The Alchemist",
                                    "tag_id": "3389"
                                },
                                {
                                    "title": "The Alchemist",
                                    "tag_id": "20849"
                                },
                                {
                                    "title": "The Alchemist",
                                    "tag_id": "11497"
                                },
                                {
                                    "title": "The Alchemist",
                                    "tag_id": "9221"
                                },
                                {
                                    "title": "The Alchemist",
                                    "tag_id": "3392"
                                },
                                {
                                    "title": "The Alchemist",
                                    "tag_id": "17213"
                                },
                                {
                                    "title": "The Alchemist",
                                    "tag_id": "25647"
                                },
                                {
                                    "title": "The Alchemist",
                                    "tag_id": "8067"
                                },
                                {
                                    "title": "The Alchemist",
                                    "tag_id": "26735"
                                },
                                {
                                    "title": "The Alchemist",
                                    "tag_id": "5051"
                                },
                                {
                                    "title": "The Alchemist",
                                    "tag_id": "18326"
                                },
                                {
                                    "title": "The Alchemist",
                                    "tag_id": "24960"
                                },
                                {
                                    "title": "The Alchemist",
                                    "tag_id": "10644"
                                },
                                {
                                    "title": "The Alchemist",
                                    "tag_id": "5090"
                                },
                                {
                                    "title": "The Alchemist",
                                    "tag_id": "31155"
                                },
                                {
                                    "title": "The Alchemist",
                                    "tag_id": "11978"
                                },
                                {
                                    "title": "The Alchemist",
                                    "tag_id": "15169"
                                },
                                {
                                    "title": "The Alchemist",
                                    "tag_id": "5481"
                                },
                                {
                                    "title": "The Alchemist",
                                    "tag_id": "23465"
                                },
                                {
                                    "title": "The Alchemist",
                                    "tag_id": "2104"
                                },
                                {
                                    "title": "The Alchemist",
                                    "tag_id": "10197"
                                },
                                {
                                    "title": "The Alchemist",
                                    "tag_id": "11505"
                                },
                                {
                                    "title": "The Alchemist",
                                    "tag_id": "33114"
                                },
                                {
                                    "title": "The Alchemist",
                                    "tag_id": "1416"
                                },
                                {
                                    "title": "The Alchemist",
                                    "tag_id": "27535"
                                },
                                {
                                    "title": "The Alchemist",
                                    "tag_id": "25152"
                                },
                                {
                                    "title": "The Alchemist",
                                    "tag_id": "22689"
                                },
                                {
                                    "title": "The Alchemist",
                                    "tag_id": "25151"
                                },
                                {
                                    "title": "The Alchemist",
                                    "tag_id": "3371"
                                },
                                {
                                    "title": "The Alchemist",
                                    "tag_id": "9886"
                                },
                                {
                                    "title": "The Alchemist",
                                    "tag_id": "15642"
                                },
                                {
                                    "title": "The Alchemist",
                                    "tag_id": "31133"
                                },
                                {
                                    "title": "The Alchemist",
                                    "tag_id": "923"
                                },
                                {
                                    "title": "The Alchemist",
                                    "tag_id": "30672"
                                },
                                {
                                    "title": "The Alchemist",
                                    "tag_id": "25150"
                                },
                                {
                                    "title": "The Alchemist",
                                    "tag_id": "10210"
                                },
                                {
                                    "title": "The Alchemist",
                                    "tag_id": "15624"
                                },
                                {
                                    "title": "The Alchemist",
                                    "tag_id": "32586"
                                },
                                {
                                    "title": "The Alchemist",
                                    "tag_id": "11574"
                                },
                                {
                                    "title": "The Alchemist",
                                    "tag_id": "7606"
                                },
                                {
                                    "title": "The Alchemist",
                                    "tag_id": "1746"
                                },
                                {
                                    "title": "The Alchemist",
                                    "tag_id": "20731"
                                },
                                {
                                    "title": "The Alchemist",
                                    "tag_id": "5656"
                                },
                                {
                                    "title": "The Alchemist",
                                    "tag_id": "20824"
                                },
                                {
                                    "title": "The Alchemist",
                                    "tag_id": "4959"
                                },
                                {
                                    "title": "The Alchemist",
                                    "tag_id": "18318"
                                },
                                {
                                    "title": "The Alchemist",
                                    "tag_id": "22545"
                                },
                                {
                                    "title": "The Alchemist",
                                    "tag_id": "25153"
                                },
                                {
                                    "title": "The Alchemist",
                                    "tag_id": "21689"
                                },
                                {
                                    "title": "The Alchemist",
                                    "tag_id": "23334"
                                },
                                {
                                    "title": "The Alchemist",
                                    "tag_id": "29614"
                                },
                                {
                                    "title": "The Alchemist",
                                    "tag_id": "20282"
                                },
                                {
                                    "title": "The Alchemist",
                                    "tag_id": "27111"
                                },
                                {
                                    "title": "The Alchemist",
                                    "tag_id": "31505"
                                },
                                {
                                    "title": "The Alchemist",
                                    "tag_id": "30573"
                                },
                                {
                                    "title": "The Alchemist",
                                    "tag_id": "17640"
                                },
                                {
                                    "title": "The Alchemist",
                                    "tag_id": "11106"
                                },
                                {
                                    "title": "The Alchemist",
                                    "tag_id": "5655"
                                },
                                {
                                    "title": "The Alchemist",
                                    "tag_id": "25506"
                                },
                                {
                                    "title": "The Alchemist",
                                    "tag_id": "12315"
                                },
                                {
                                    "title": "The Alchemist",
                                    "tag_id": "26138"
                                },
                                {
                                    "title": "The Alchemist",
                                    "tag_id": "4985"
                                },
                                {
                                    "title": "The Alchemist",
                                    "tag_id": "20520"
                                },
                                {
                                    "title": "The Alchemist",
                                    "tag_id": "20288"
                                },
                                {
                                    "title": "The Alchemist",
                                    "tag_id": "28259"
                                },
                                {
                                    "title": "The Alchemist",
                                    "tag_id": "18130"
                                },
                                {
                                    "title": "The Alchemist",
                                    "tag_id": "25149"
                                }
                            ]
                        },
                        "text/html": [
                            "<table>",
                            "<tr><th>title</th><th>tag_id</th></tr>",
                            "<tr><td>The Alchemist</td><td>30574</td></tr>",
                            "<tr><td>The Alchemist</td><td>8717</td></tr>",
                            "<tr><td>The Alchemist</td><td>11743</td></tr>",
                            "<tr><td>The Alchemist</td><td>11557</td></tr>",
                            "<tr><td>The Alchemist</td><td>7457</td></tr>",
                            "<tr><td>The Alchemist</td><td>11305</td></tr>",
                            "<tr><td>The Alchemist</td><td>23471</td></tr>",
                            "<tr><td>The Alchemist</td><td>22743</td></tr>",
                            "<tr><td>The Alchemist</td><td>5207</td></tr>",
                            "<tr><td>The Alchemist</td><td>4949</td></tr>",
                            "<tr><td>The Alchemist</td><td>22034</td></tr>",
                            "<tr><td>The Alchemist</td><td>28384</td></tr>",
                            "<tr><td>The Alchemist</td><td>23150</td></tr>",
                            "<tr><td>The Alchemist</td><td>15626</td></tr>",
                            "<tr><td>The Alchemist</td><td>18367</td></tr>",
                            "<tr><td>The Alchemist</td><td>21989</td></tr>",
                            "<tr><td>The Alchemist</td><td>28341</td></tr>",
                            "<tr><td>The Alchemist</td><td>1691</td></tr>",
                            "<tr><td>The Alchemist</td><td>7404</td></tr>",
                            "<tr><td>The Alchemist</td><td>11590</td></tr>",
                            "<tr><td>The Alchemist</td><td>22753</td></tr>",
                            "<tr><td>The Alchemist</td><td>8055</td></tr>",
                            "<tr><td>The Alchemist</td><td>27095</td></tr>",
                            "<tr><td>The Alchemist</td><td>33777</td></tr>",
                            "<tr><td>The Alchemist</td><td>18919</td></tr>",
                            "<tr><td>The Alchemist</td><td>1642</td></tr>",
                            "<tr><td>The Alchemist</td><td>30521</td></tr>",
                            "<tr><td>The Alchemist</td><td>1659</td></tr>",
                            "<tr><td>The Alchemist</td><td>14487</td></tr>",
                            "<tr><td>The Alchemist</td><td>20774</td></tr>",
                            "<tr><td>The Alchemist</td><td>18045</td></tr>",
                            "<tr><td>The Alchemist</td><td>12948</td></tr>",
                            "<tr><td>The Alchemist</td><td>7563</td></tr>",
                            "<tr><td>The Alchemist</td><td>3389</td></tr>",
                            "<tr><td>The Alchemist</td><td>20849</td></tr>",
                            "<tr><td>The Alchemist</td><td>11497</td></tr>",
                            "<tr><td>The Alchemist</td><td>9221</td></tr>",
                            "<tr><td>The Alchemist</td><td>3392</td></tr>",
                            "<tr><td>The Alchemist</td><td>17213</td></tr>",
                            "<tr><td>The Alchemist</td><td>25647</td></tr>",
                            "<tr><td>The Alchemist</td><td>8067</td></tr>",
                            "<tr><td>The Alchemist</td><td>26735</td></tr>",
                            "<tr><td>The Alchemist</td><td>5051</td></tr>",
                            "<tr><td>The Alchemist</td><td>18326</td></tr>",
                            "<tr><td>The Alchemist</td><td>24960</td></tr>",
                            "<tr><td>The Alchemist</td><td>10644</td></tr>",
                            "<tr><td>The Alchemist</td><td>5090</td></tr>",
                            "<tr><td>The Alchemist</td><td>31155</td></tr>",
                            "<tr><td>The Alchemist</td><td>11978</td></tr>",
                            "<tr><td>The Alchemist</td><td>15169</td></tr>",
                            "<tr><td>The Alchemist</td><td>5481</td></tr>",
                            "<tr><td>The Alchemist</td><td>23465</td></tr>",
                            "<tr><td>The Alchemist</td><td>2104</td></tr>",
                            "<tr><td>The Alchemist</td><td>10197</td></tr>",
                            "<tr><td>The Alchemist</td><td>11505</td></tr>",
                            "<tr><td>The Alchemist</td><td>33114</td></tr>",
                            "<tr><td>The Alchemist</td><td>1416</td></tr>",
                            "<tr><td>The Alchemist</td><td>27535</td></tr>",
                            "<tr><td>The Alchemist</td><td>25152</td></tr>",
                            "<tr><td>The Alchemist</td><td>22689</td></tr>",
                            "<tr><td>The Alchemist</td><td>25151</td></tr>",
                            "<tr><td>The Alchemist</td><td>3371</td></tr>",
                            "<tr><td>The Alchemist</td><td>9886</td></tr>",
                            "<tr><td>The Alchemist</td><td>15642</td></tr>",
                            "<tr><td>The Alchemist</td><td>31133</td></tr>",
                            "<tr><td>The Alchemist</td><td>923</td></tr>",
                            "<tr><td>The Alchemist</td><td>30672</td></tr>",
                            "<tr><td>The Alchemist</td><td>25150</td></tr>",
                            "<tr><td>The Alchemist</td><td>10210</td></tr>",
                            "<tr><td>The Alchemist</td><td>15624</td></tr>",
                            "<tr><td>The Alchemist</td><td>32586</td></tr>",
                            "<tr><td>The Alchemist</td><td>11574</td></tr>",
                            "<tr><td>The Alchemist</td><td>7606</td></tr>",
                            "<tr><td>The Alchemist</td><td>1746</td></tr>",
                            "<tr><td>The Alchemist</td><td>20731</td></tr>",
                            "<tr><td>The Alchemist</td><td>5656</td></tr>",
                            "<tr><td>The Alchemist</td><td>20824</td></tr>",
                            "<tr><td>The Alchemist</td><td>4959</td></tr>",
                            "<tr><td>The Alchemist</td><td>18318</td></tr>",
                            "<tr><td>The Alchemist</td><td>22545</td></tr>",
                            "<tr><td>The Alchemist</td><td>25153</td></tr>",
                            "<tr><td>The Alchemist</td><td>21689</td></tr>",
                            "<tr><td>The Alchemist</td><td>23334</td></tr>",
                            "<tr><td>The Alchemist</td><td>29614</td></tr>",
                            "<tr><td>The Alchemist</td><td>20282</td></tr>",
                            "<tr><td>The Alchemist</td><td>27111</td></tr>",
                            "<tr><td>The Alchemist</td><td>31505</td></tr>",
                            "<tr><td>The Alchemist</td><td>30573</td></tr>",
                            "<tr><td>The Alchemist</td><td>17640</td></tr>",
                            "<tr><td>The Alchemist</td><td>11106</td></tr>",
                            "<tr><td>The Alchemist</td><td>5655</td></tr>",
                            "<tr><td>The Alchemist</td><td>25506</td></tr>",
                            "<tr><td>The Alchemist</td><td>12315</td></tr>",
                            "<tr><td>The Alchemist</td><td>26138</td></tr>",
                            "<tr><td>The Alchemist</td><td>4985</td></tr>",
                            "<tr><td>The Alchemist</td><td>20520</td></tr>",
                            "<tr><td>The Alchemist</td><td>20288</td></tr>",
                            "<tr><td>The Alchemist</td><td>28259</td></tr>",
                            "<tr><td>The Alchemist</td><td>18130</td></tr>",
                            "<tr><td>The Alchemist</td><td>25149</td></tr>",
                            "</table>"
                        ]
                    }
                }
            ],
            "execution_count": 6
        },
        {
            "cell_type": "code",
            "source": [
                "SELECT tag_name\n",
                "FROM BooksDB.dbo.tags\n",
                "WHERE tag_id= 30574; \n",
                "\n",
                ""
            ],
            "metadata": {
                "language": "sql",
                "azdata_cell_guid": "5c58ffa4-67c6-4d09-a221-120caffc4bc8"
            },
            "outputs": [
                {
                    "output_type": "display_data",
                    "data": {
                        "text/html": "(1 row affected)"
                    },
                    "metadata": {}
                },
                {
                    "output_type": "display_data",
                    "data": {
                        "text/html": "Total execution time: 00:00:00.060"
                    },
                    "metadata": {}
                },
                {
                    "output_type": "execute_result",
                    "metadata": {},
                    "execution_count": 7,
                    "data": {
                        "application/vnd.dataresource+json": {
                            "schema": {
                                "fields": [
                                    {
                                        "name": "tag_name"
                                    }
                                ]
                            },
                            "data": [
                                {
                                    "tag_name": "to-read"
                                }
                            ]
                        },
                        "text/html": [
                            "<table>",
                            "<tr><th>tag_name</th></tr>",
                            "<tr><td>to-read</td></tr>",
                            "</table>"
                        ]
                    }
                }
            ],
            "execution_count": 7
        },
        {
            "cell_type": "markdown",
            "source": [
                "## \n",
                "\n",
                "## **QUESTION 6:** Find a book based on a tag of your choice using joins.\n",
                "\n",
                "Some suggestions: any hobbies you like? baking, drawing, etc. how about favorite holidays, subjects, animals, etc?\n",
                "\n",
                "**Part A:** Explore the tags table for a tag of your choice.  Suggested ideas, try searching for one of your hobbies, a favorite time of year, favorite animal, etc.  Start by querying the tag table for your chosen tag.  (_Hint:_ in order to make sure you find all combinations of your tags, use the wildcard).  If your query returns more than one result, pick your favorite.\n",
                "\n",
                "> > _Here is an example.  Alyce wanted to search for halloween books.  She used the wildcard, '%halloween%' and 8 different combinations were found.  Alyce selected '**halloween-storytime**', with a tag id of 13877._\n",
                "\n",
                "> _Minimum Desired Output:_ <span style=\"font-family: -apple-system, BlinkMacSystemFont, sans-serif; background-color: rgba(127, 127, 127, 0.1);\">tag name and tag id</span>\n",
                "\n",
                "> **Your Tag and Tag Id:**\n",
                "> \n",
                "> coffee-cakes-and-sweets-reading 7611\n",
                "\n",
                "**Part B:** Now that you have the **tag id**, find the title that was tagged the most with this tag by joining the books and books\\_tags tables.\n",
                "\n",
                "> > _Alyce joined the book table with the tags table and discovered that <u>The Little Old Lady Who Was Not Afraid of Anything</u> was tagged as '**halloween-storytime**' the most._\n",
                "\n",
                "> _Minimum Desired Output:_ <span style=\"background-color: rgba(127, 127, 127, 0.1); font-family: -apple-system, BlinkMacSystemFont, sans-serif;\">title and tag count</span>\n",
                "\n",
                "> **Your Title and Number of times the tag was used:**\n",
                "> \n",
                "> **The Cake Mix Doctor     1**"
            ],
            "metadata": {
                "azdata_cell_guid": "df783e7e-3aff-4e63-9edb-f2e729c7d1c8"
            },
            "attachments": {}
        },
        {
            "cell_type": "code",
            "source": [
                "SELECT tag_name,tag_id FROM BooksDB.dbo.tags where tag_name like '%cake%'"
            ],
            "metadata": {
                "azdata_cell_guid": "c4b0b67c-7cfa-4f52-be97-ffe5cc28ed54",
                "tags": [],
                "language": "sql"
            },
            "outputs": [
                {
                    "output_type": "display_data",
                    "data": {
                        "text/html": "(11 rows affected)"
                    },
                    "metadata": {}
                },
                {
                    "output_type": "display_data",
                    "data": {
                        "text/html": "Total execution time: 00:00:00.104"
                    },
                    "metadata": {}
                },
                {
                    "output_type": "execute_result",
                    "metadata": {},
                    "execution_count": 8,
                    "data": {
                        "application/vnd.dataresource+json": {
                            "schema": {
                                "fields": [
                                    {
                                        "name": "tag_name"
                                    },
                                    {
                                        "name": "tag_id"
                                    }
                                ]
                            },
                            "data": [
                                {
                                    "tag_name": "all-cake",
                                    "tag_id": "2074"
                                },
                                {
                                    "tag_name": "cake",
                                    "tag_id": "6093"
                                },
                                {
                                    "tag_name": "cake-decorating",
                                    "tag_id": "6094"
                                },
                                {
                                    "tag_name": "cakes",
                                    "tag_id": "6095"
                                },
                                {
                                    "tag_name": "coffee-cakes-and-sweets-reading",
                                    "tag_id": "7611"
                                },
                                {
                                    "tag_name": "cooking-cookery-desserts-cupcakes-s",
                                    "tag_id": "8226"
                                },
                                {
                                    "tag_name": "cupcake",
                                    "tag_id": "8694"
                                },
                                {
                                    "tag_name": "cupcake-books",
                                    "tag_id": "8695"
                                },
                                {
                                    "tag_name": "cupcakes",
                                    "tag_id": "8696"
                                },
                                {
                                    "tag_name": "foodie-cupcakes",
                                    "tag_id": "12261"
                                },
                                {
                                    "tag_name": "pancakes",
                                    "tag_id": "22918"
                                }
                            ]
                        },
                        "text/html": [
                            "<table>",
                            "<tr><th>tag_name</th><th>tag_id</th></tr>",
                            "<tr><td>all-cake</td><td>2074</td></tr>",
                            "<tr><td>cake</td><td>6093</td></tr>",
                            "<tr><td>cake-decorating</td><td>6094</td></tr>",
                            "<tr><td>cakes</td><td>6095</td></tr>",
                            "<tr><td>coffee-cakes-and-sweets-reading</td><td>7611</td></tr>",
                            "<tr><td>cooking-cookery-desserts-cupcakes-s</td><td>8226</td></tr>",
                            "<tr><td>cupcake</td><td>8694</td></tr>",
                            "<tr><td>cupcake-books</td><td>8695</td></tr>",
                            "<tr><td>cupcakes</td><td>8696</td></tr>",
                            "<tr><td>foodie-cupcakes</td><td>12261</td></tr>",
                            "<tr><td>pancakes</td><td>22918</td></tr>",
                            "</table>"
                        ]
                    }
                }
            ],
            "execution_count": 8
        },
        {
            "cell_type": "code",
            "source": [
                "SELECT b.title ,bt.[count],bt.tag_id\n",
                "FROM BooksDB.dbo.books AS b\n",
                "inner JOIN BooksDB.dbo.book_tags AS bt\n",
                "ON b.best_book_id=bt.goodreads_book_id\n",
                "WHERE (bt.tag_id='7611')\n",
                "\n",
                "\n",
                "\n",
                ""
            ],
            "metadata": {
                "language": "sql",
                "azdata_cell_guid": "e6cf2e67-10f0-40a8-8872-d0c4c9a067d4",
                "tags": []
            },
            "outputs": [
                {
                    "output_type": "display_data",
                    "data": {
                        "text/html": "(1 row affected)"
                    },
                    "metadata": {}
                },
                {
                    "output_type": "display_data",
                    "data": {
                        "text/html": "Total execution time: 00:00:00.132"
                    },
                    "metadata": {}
                },
                {
                    "output_type": "execute_result",
                    "metadata": {},
                    "execution_count": 11,
                    "data": {
                        "application/vnd.dataresource+json": {
                            "schema": {
                                "fields": [
                                    {
                                        "name": "title"
                                    },
                                    {
                                        "name": "count"
                                    },
                                    {
                                        "name": "tag_id"
                                    }
                                ]
                            },
                            "data": [
                                {
                                    "title": "The Cake Mix Doctor",
                                    "count": "1",
                                    "tag_id": "7611"
                                }
                            ]
                        },
                        "text/html": [
                            "<table>",
                            "<tr><th>title</th><th>count</th><th>tag_id</th></tr>",
                            "<tr><td>The Cake Mix Doctor</td><td>1</td><td>7611</td></tr>",
                            "</table>"
                        ]
                    }
                }
            ],
            "execution_count": 11
        },
        {
            "cell_type": "markdown",
            "source": [
                "##  **QUESTION 7:** What are the top 10 most popular book titles on the 'to read' list?\n",
                "\n",
                "**Part A:**  Explore how the **to\\_read** and **books** tables are organized, and then join them.  What will you use as a key?\n",
                "\n",
                "> Your Answer: INNER JOIN is key to join \n",
                "\n",
                "**Part B:** Organize your newly joined table in a way that groups popularity based on the title based on users.\n",
                "\n",
                "> _Hint:_ Suggest using an alias for the aggregation you will need to run on the **user\\_id**\n",
                "\n",
                "> _Minimum Desired Output:_ title and aliased column"
            ],
            "metadata": {
                "azdata_cell_guid": "4e5349b7-24f6-481a-9d88-bb4f86abc624"
            },
            "attachments": {}
        },
        {
            "cell_type": "code",
            "source": [
                "SELECT  TOP 10 count(tr.user_id ) number_read,b.title \n",
                "FROM BooksDB.dbo.books AS b\n",
                "INNER JOIN BooksDB.dbo.to_read AS tr\n",
                "ON b.best_book_id=tr.book_id\n",
                "WHERE b.title IS NOT NULL\n",
                "GROUP BY b.title\n",
                "ORDER BY number_read ASC\n",
                "\n",
                "\n",
                ""
            ],
            "metadata": {
                "azdata_cell_guid": "8af25df1-ce61-4152-8198-0b53c17642d0",
                "language": "sql",
                "tags": []
            },
            "outputs": [
                {
                    "output_type": "display_data",
                    "data": {
                        "text/html": "(10 rows affected)"
                    },
                    "metadata": {}
                },
                {
                    "output_type": "display_data",
                    "data": {
                        "text/html": "Total execution time: 00:00:00.168"
                    },
                    "metadata": {}
                },
                {
                    "output_type": "execute_result",
                    "metadata": {},
                    "execution_count": 14,
                    "data": {
                        "application/vnd.dataresource+json": {
                            "schema": {
                                "fields": [
                                    {
                                        "name": "number_read"
                                    },
                                    {
                                        "name": "title"
                                    }
                                ]
                            },
                            "data": [
                                {
                                    "number_read": "1",
                                    "title": "The Divine Comedy"
                                },
                                {
                                    "number_read": "1",
                                    "title": "The Bookseller of Kabul"
                                },
                                {
                                    "number_read": "2",
                                    "title": "Deadeye Dick"
                                },
                                {
                                    "number_read": "2",
                                    "title": "Sputnik Sweetheart"
                                },
                                {
                                    "number_read": "2",
                                    "title": "Ghostwritten"
                                },
                                {
                                    "number_read": "2",
                                    "title": "The World According to Garp"
                                },
                                {
                                    "number_read": "3",
                                    "title": "The Bell Jar"
                                },
                                {
                                    "number_read": "3",
                                    "title": "The Street Lawyer"
                                },
                                {
                                    "number_read": "3",
                                    "title": "The Canterbury Tales"
                                },
                                {
                                    "number_read": "3",
                                    "title": "Haroun and the Sea of Stories (Khalifa Brothers, #1)"
                                }
                            ]
                        },
                        "text/html": [
                            "<table>",
                            "<tr><th>number_read</th><th>title</th></tr>",
                            "<tr><td>1</td><td>The Divine Comedy</td></tr>",
                            "<tr><td>1</td><td>The Bookseller of Kabul</td></tr>",
                            "<tr><td>2</td><td>Deadeye Dick</td></tr>",
                            "<tr><td>2</td><td>Sputnik Sweetheart</td></tr>",
                            "<tr><td>2</td><td>Ghostwritten</td></tr>",
                            "<tr><td>2</td><td>The World According to Garp</td></tr>",
                            "<tr><td>3</td><td>The Bell Jar</td></tr>",
                            "<tr><td>3</td><td>The Street Lawyer</td></tr>",
                            "<tr><td>3</td><td>The Canterbury Tales</td></tr>",
                            "<tr><td>3</td><td>Haroun and the Sea of Stories (Khalifa Brothers, #1)</td></tr>",
                            "</table>"
                        ]
                    }
                }
            ],
            "execution_count": 14
        },
        {
            "cell_type": "code",
            "source": [
                ""
            ],
            "metadata": {
                "language": "sql",
                "azdata_cell_guid": "74ba9645-e85f-400e-8229-99cd8a335d83"
            },
            "outputs": [],
            "execution_count": null
        },
        {
            "cell_type": "markdown",
            "source": [
                "## **QUESTION 8:** Largest 'To Read' Lists\n",
                "\n",
                "**Part A:**  Create a query that returns a table that contains the top 10 users with the most number of titles on their 'to read' list.    Group all the entries by user\\_id.  \n",
                "\n",
                "> _Hint:_ You might want an alias for the titles.\n",
                "> \n",
                "> _Minimum Desired Output:_  user\\_id and your aliased column of titles.\n",
                "\n",
                "**Part B:**  The longest list length is 15 titles total, and is shared by 4 different users.  Select one of the uses and print out their entire '**to read**' list."
            ],
            "metadata": {
                "azdata_cell_guid": "0b0090b0-2b28-44c6-8bb6-06b4c03c3ff1"
            },
            "attachments": {}
        },
        {
            "cell_type": "code",
            "source": [
                "SELECT TOP 10 COUNT(b.title) numtoread,tr.user_id\n",
                "FROM BooksDB.dbo.books AS b \n",
                "INNER JOIN BooksDB.dbo.to_read AS tr\n",
                "ON b.book_id =tr.book_id\n",
                "GROUP BY user_id\n",
                "ORDER BY numtoread DESC;"
            ],
            "metadata": {
                "azdata_cell_guid": "c6c815f8-890d-4163-be63-3d300e320597",
                "tags": [],
                "language": "sql"
            },
            "outputs": [
                {
                    "output_type": "display_data",
                    "data": {
                        "text/html": "(10 rows affected)"
                    },
                    "metadata": {}
                },
                {
                    "output_type": "display_data",
                    "data": {
                        "text/html": "Total execution time: 00:00:00.203"
                    },
                    "metadata": {}
                },
                {
                    "output_type": "execute_result",
                    "metadata": {},
                    "execution_count": 15,
                    "data": {
                        "application/vnd.dataresource+json": {
                            "schema": {
                                "fields": [
                                    {
                                        "name": "numtoread"
                                    },
                                    {
                                        "name": "user_id"
                                    }
                                ]
                            },
                            "data": [
                                {
                                    "numtoread": "15",
                                    "user_id": "14771"
                                },
                                {
                                    "numtoread": "15",
                                    "user_id": "12483"
                                },
                                {
                                    "numtoread": "15",
                                    "user_id": "11932"
                                },
                                {
                                    "numtoread": "15",
                                    "user_id": "38201"
                                },
                                {
                                    "numtoread": "14",
                                    "user_id": "36923"
                                },
                                {
                                    "numtoread": "14",
                                    "user_id": "41523"
                                },
                                {
                                    "numtoread": "14",
                                    "user_id": "27933"
                                },
                                {
                                    "numtoread": "14",
                                    "user_id": "37359"
                                },
                                {
                                    "numtoread": "13",
                                    "user_id": "25734"
                                },
                                {
                                    "numtoread": "13",
                                    "user_id": "51137"
                                }
                            ]
                        },
                        "text/html": [
                            "<table>",
                            "<tr><th>numtoread</th><th>user_id</th></tr>",
                            "<tr><td>15</td><td>14771</td></tr>",
                            "<tr><td>15</td><td>12483</td></tr>",
                            "<tr><td>15</td><td>11932</td></tr>",
                            "<tr><td>15</td><td>38201</td></tr>",
                            "<tr><td>14</td><td>36923</td></tr>",
                            "<tr><td>14</td><td>41523</td></tr>",
                            "<tr><td>14</td><td>27933</td></tr>",
                            "<tr><td>14</td><td>37359</td></tr>",
                            "<tr><td>13</td><td>25734</td></tr>",
                            "<tr><td>13</td><td>51137</td></tr>",
                            "</table>"
                        ]
                    }
                }
            ],
            "execution_count": 15
        },
        {
            "cell_type": "code",
            "source": [
                "SElECT TOP 20 b.title toreadlist\n",
                "FROM BooksDB.dbo.books AS b  \n",
                "JOIN BooksDB.dbo.to_read AS tr \n",
                "ON b.book_id=tr.book_id\n",
                "WHERE tr.user_id =12483\n",
                "\n",
                ""
            ],
            "metadata": {
                "language": "sql",
                "azdata_cell_guid": "ac431937-6a7e-41df-94d9-1d9476a7247a"
            },
            "outputs": [
                {
                    "output_type": "display_data",
                    "data": {
                        "text/html": "(15 rows affected)"
                    },
                    "metadata": {}
                },
                {
                    "output_type": "display_data",
                    "data": {
                        "text/html": "Total execution time: 00:00:00.128"
                    },
                    "metadata": {}
                },
                {
                    "output_type": "execute_result",
                    "metadata": {},
                    "execution_count": 16,
                    "data": {
                        "application/vnd.dataresource+json": {
                            "schema": {
                                "fields": [
                                    {
                                        "name": "toreadlist"
                                    }
                                ]
                            },
                            "data": [
                                {
                                    "toreadlist": "Fahrenheit 451"
                                },
                                {
                                    "toreadlist": "Hamlet"
                                },
                                {
                                    "toreadlist": "Great Expectations"
                                },
                                {
                                    "toreadlist": "Madame Bovary"
                                },
                                {
                                    "toreadlist": "A Room with a View"
                                },
                                {
                                    "toreadlist": "Cryptonomicon"
                                },
                                {
                                    "toreadlist": "The Complete Sherlock Holmes, Vol 2"
                                },
                                {
                                    "toreadlist": "Tropic of Cancer"
                                },
                                {
                                    "toreadlist": "The New York Trilogy"
                                },
                                {
                                    "toreadlist": "Metamorphoses"
                                },
                                {
                                    "toreadlist": "Founding Brothers: The Revolutionary Generation"
                                },
                                {
                                    "toreadlist": "Peter and the Shadow Thieves (Peter and the Starcatchers, #2)"
                                },
                                {
                                    "toreadlist": "The Salmon of Doubt (Dirk Gently, #3)"
                                },
                                {
                                    "toreadlist": "Jailbird"
                                },
                                {
                                    "toreadlist": "The Broken Wings"
                                }
                            ]
                        },
                        "text/html": [
                            "<table>",
                            "<tr><th>toreadlist</th></tr>",
                            "<tr><td>Fahrenheit 451</td></tr>",
                            "<tr><td>Hamlet</td></tr>",
                            "<tr><td>Great Expectations</td></tr>",
                            "<tr><td>Madame Bovary</td></tr>",
                            "<tr><td>A Room with a View</td></tr>",
                            "<tr><td>Cryptonomicon</td></tr>",
                            "<tr><td>The Complete Sherlock Holmes, Vol 2</td></tr>",
                            "<tr><td>Tropic of Cancer</td></tr>",
                            "<tr><td>The New York Trilogy</td></tr>",
                            "<tr><td>Metamorphoses</td></tr>",
                            "<tr><td>Founding Brothers: The Revolutionary Generation</td></tr>",
                            "<tr><td>Peter and the Shadow Thieves (Peter and the Starcatchers, #2)</td></tr>",
                            "<tr><td>The Salmon of Doubt (Dirk Gently, #3)</td></tr>",
                            "<tr><td>Jailbird</td></tr>",
                            "<tr><td>The Broken Wings</td></tr>",
                            "</table>"
                        ]
                    }
                }
            ],
            "execution_count": 16
        }
    ]
}